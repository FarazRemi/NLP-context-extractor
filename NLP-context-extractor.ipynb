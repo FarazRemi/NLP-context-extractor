{
 "cells": [
  {
   "attachments": {},
   "cell_type": "markdown",
   "metadata": {},
   "source": [
    "## Objectives (for now)"
   ]
  },
  {
   "attachments": {},
   "cell_type": "markdown",
   "metadata": {},
   "source": [
    "* Write a program to recognize named entities in text\n",
    "* Learn how to manage a text data set better\n",
    "* Apply recurrent neural networks to text with PyTorch\n",
    "* Get a better feel for what word embeddings are"
   ]
  },
  {
   "attachments": {},
   "cell_type": "markdown",
   "metadata": {},
   "source": [
    "### Imports\n"
   ]
  },
  {
   "cell_type": "code",
   "execution_count": 2,
   "metadata": {},
   "outputs": [],
   "source": [
    "import os\n",
    "import matplotlib.pyplot as plt\n",
    "from tqdm import tqdm\n",
    "import random\n",
    "import torch\n",
    "import torch.nn as nn\n",
    "import torch.nn.functional as F\n",
    "from torch.nn.utils.rnn import pad_sequence\n",
    "from torch.utils.data import TensorDataset, DataLoader\n",
    "import conlleval"
   ]
  },
  {
   "cell_type": "code",
   "execution_count": 3,
   "metadata": {},
   "outputs": [
    {
     "data": {
      "text/plain": [
       "<torch._C.Generator at 0x29c9e2e60b0>"
      ]
     },
     "execution_count": 3,
     "metadata": {},
     "output_type": "execute_result"
    }
   ],
   "source": [
    "random.seed(1234)\n",
    "torch.manual_seed(1234)"
   ]
  },
  {
   "cell_type": "markdown",
   "metadata": {},
   "source": [
    "### Constants"
   ]
  },
  {
   "cell_type": "code",
   "execution_count": 4,
   "metadata": {},
   "outputs": [],
   "source": [
    "EPOCHS = 10\n",
    "LSTM_HIDDEN_DIM = 128\n",
    "LSTM_LAYERS = 2\n",
    "DROPOUT = 0.20\n",
    "EMB_LARGE = False # GloVe 50 or 100\n",
    "FREEZE_EMBS = True\n",
    "LARGE_MEM = False"
   ]
  },
  {
   "cell_type": "code",
   "execution_count": 5,
   "metadata": {},
   "outputs": [],
   "source": [
    "config = {'EPOCHS': EPOCHS, \n",
    "'LSTM_HIDDEN_DIM': LSTM_HIDDEN_DIM,\n",
    "'LSTM_LAYERS': LSTM_LAYERS,\n",
    "'DROPOUT': DROPOUT,\n",
    "'EMB_LARGE': EMB_LARGE,\n",
    "'FREEZE_EMBS': FREEZE_EMBS}"
   ]
  },
  {
   "attachments": {},
   "cell_type": "markdown",
   "metadata": {},
   "source": [
    "### The datasets\n",
    "dowloads and fixes everything for simplicity's sake"
   ]
  },
  {
   "cell_type": "code",
   "execution_count": null,
   "metadata": {},
   "outputs": [],
   "source": [
    "!wget https://data.deepai.org/conll2003.zip\n",
    "!unzip -u conll2003.zip\n",
    "!mkdir conll2003\n",
    "!mv train.txt valid.txt test.txt conll2003\n",
    "!rm conll2003.zip\n",
    "#Download GloVe dataset as well"
   ]
  },
  {
   "cell_type": "code",
   "execution_count": 6,
   "metadata": {},
   "outputs": [],
   "source": [
    "train_file = 'conll2003/train.txt'\n",
    "val_file = 'conll2003/valid.txt'\n",
    "test_file = 'conll2003/test.txt'"
   ]
  },
  {
   "cell_type": "markdown",
   "metadata": {},
   "source": [
    "## Reading the files"
   ]
  },
  {
   "cell_type": "code",
   "execution_count": 7,
   "metadata": {},
   "outputs": [],
   "source": [
    "def read_sentences(file):\n",
    "    \"\"\"\n",
    "    Creates a list of sentences from the corpus\n",
    "    Each sentence is a string\n",
    "    :param file:\n",
    "    :return:\n",
    "    \"\"\"\n",
    "    f = open(file).read().strip()\n",
    "    sentences = f.split('\\n\\n')\n",
    "    return sentences"
   ]
  },
  {
   "cell_type": "code",
   "execution_count": 8,
   "metadata": {},
   "outputs": [],
   "source": [
    "def split_rows(sentences, column_names):\n",
    "    \"\"\"\n",
    "    Creates a list of sentence where each sentence is a list of lines\n",
    "    Each line is a dictionary of columns\n",
    "    :param sentences:\n",
    "    :param column_names:\n",
    "    :return:\n",
    "    \"\"\"\n",
    "    new_sentences = []\n",
    "    for sentence in sentences:\n",
    "        rows = sentence.split('\\n')\n",
    "        sentence = [dict(zip(column_names, row.split())) for row in rows]\n",
    "        new_sentences.append(sentence)\n",
    "    return new_sentences"
   ]
  },
  {
   "cell_type": "markdown",
   "metadata": {},
   "source": [
    "### Loading dictionaries"
   ]
  },
  {
   "attachments": {},
   "cell_type": "markdown",
   "metadata": {},
   "source": [
    "CoNLL files have four columns: wordform, `form`,  predicted part of speech, `ppos`, predicted tag denoting the syntactic group aka chunk tag, `pchunk`, and named entity tag `ner`."
   ]
  },
  {
   "cell_type": "code",
   "execution_count": 9,
   "metadata": {},
   "outputs": [],
   "source": [
    "column_names = ['form', 'ppos', 'pchunk', 'ner']"
   ]
  },
  {
   "attachments": {},
   "cell_type": "markdown",
   "metadata": {},
   "source": [
    "Load the corpus as a list of dictionaries"
   ]
  },
  {
   "cell_type": "code",
   "execution_count": 10,
   "metadata": {},
   "outputs": [
    {
     "data": {
      "text/plain": [
       "[{'form': 'EU', 'ppos': 'NNP', 'pchunk': 'B-NP', 'ner': 'B-ORG'},\n",
       " {'form': 'rejects', 'ppos': 'VBZ', 'pchunk': 'B-VP', 'ner': 'O'},\n",
       " {'form': 'German', 'ppos': 'JJ', 'pchunk': 'B-NP', 'ner': 'B-MISC'},\n",
       " {'form': 'call', 'ppos': 'NN', 'pchunk': 'I-NP', 'ner': 'O'},\n",
       " {'form': 'to', 'ppos': 'TO', 'pchunk': 'B-VP', 'ner': 'O'},\n",
       " {'form': 'boycott', 'ppos': 'VB', 'pchunk': 'I-VP', 'ner': 'O'},\n",
       " {'form': 'British', 'ppos': 'JJ', 'pchunk': 'B-NP', 'ner': 'B-MISC'},\n",
       " {'form': 'lamb', 'ppos': 'NN', 'pchunk': 'I-NP', 'ner': 'O'},\n",
       " {'form': '.', 'ppos': '.', 'pchunk': 'O', 'ner': 'O'}]"
      ]
     },
     "execution_count": 10,
     "metadata": {},
     "output_type": "execute_result"
    }
   ],
   "source": [
    "train_sentences = read_sentences(train_file)\n",
    "train_dict = split_rows(train_sentences, column_names)\n",
    "\n",
    "val_sentences = read_sentences(val_file)\n",
    "val_dict = split_rows(val_sentences, column_names)\n",
    "\n",
    "train_dict[1]"
   ]
  },
  {
   "cell_type": "markdown",
   "metadata": {},
   "source": [
    "## Embeddings"
   ]
  },
  {
   "cell_type": "code",
   "execution_count": 11,
   "metadata": {},
   "outputs": [],
   "source": [
    "if EMB_LARGE:\n",
    "    embedding_file = \"glove\\glove.6B.100d.txt\"\n",
    "    EMBEDDING_DIM = 100\n",
    "else:\n",
    "    embedding_file = \"glove\\glove.6B.50d.txt\"\n",
    "    EMBEDDING_DIM = 50"
   ]
  },
  {
   "attachments": {},
   "cell_type": "markdown",
   "metadata": {},
   "source": [
    "The function below reads GloVe embeddings and store them in a dict, where keys will be the words and the values are embedding vectors."
   ]
  },
  {
   "cell_type": "code",
   "execution_count": 12,
   "metadata": {},
   "outputs": [],
   "source": [
    "def read_embeddings(file):\n",
    "    \"\"\"\n",
    "    Return the embeddings in the from of a dictionary\n",
    "    :param file:\n",
    "    :return:\n",
    "    \"\"\"\n",
    "    embeddings = {}\n",
    "    glove = open(file, encoding='utf8')\n",
    "    for line in glove:\n",
    "        values = line.strip().split()\n",
    "        word = values[0]\n",
    "        vector = torch.FloatTensor(list(map(float, values[1:])))\n",
    "        embeddings[word] = vector\n",
    "    glove.close()\n",
    "    return embeddings"
   ]
  },
  {
   "cell_type": "code",
   "execution_count": 15,
   "metadata": {},
   "outputs": [],
   "source": [
    "# We read the embeddings\n",
    "embeddings_dict = read_embeddings(embedding_file)\n",
    "embedded_words = sorted(list(embeddings_dict.keys()))"
   ]
  },
  {
   "cell_type": "code",
   "execution_count": 16,
   "metadata": {},
   "outputs": [
    {
     "data": {
      "text/plain": [
       "'# words in embedding dictionary: 400000'"
      ]
     },
     "execution_count": 16,
     "metadata": {},
     "output_type": "execute_result"
    }
   ],
   "source": [
    "'# words in embedding dictionary: {}'.format(len(embedded_words))"
   ]
  },
  {
   "cell_type": "code",
   "execution_count": 18,
   "metadata": {},
   "outputs": [
    {
     "data": {
      "text/plain": [
       "tensor([ 4.1800e-01,  2.4968e-01, -4.1242e-01,  1.2170e-01,  3.4527e-01,\n",
       "        -4.4457e-02, -4.9688e-01, -1.7862e-01, -6.6023e-04, -6.5660e-01,\n",
       "         2.7843e-01, -1.4767e-01, -5.5677e-01,  1.4658e-01, -9.5095e-03,\n",
       "         1.1658e-02,  1.0204e-01, -1.2792e-01, -8.4430e-01, -1.2181e-01,\n",
       "        -1.6801e-02, -3.3279e-01, -1.5520e-01, -2.3131e-01, -1.9181e-01,\n",
       "        -1.8823e+00, -7.6746e-01,  9.9051e-02, -4.2125e-01, -1.9526e-01,\n",
       "         4.0071e+00, -1.8594e-01, -5.2287e-01, -3.1681e-01,  5.9213e-04,\n",
       "         7.4449e-03,  1.7778e-01, -1.5897e-01,  1.2041e-02, -5.4223e-02,\n",
       "        -2.9871e-01, -1.5749e-01, -3.4758e-01, -4.5637e-02, -4.4251e-01,\n",
       "         1.8785e-01,  2.7849e-03, -1.8411e-01, -1.1514e-01, -7.8581e-01])"
      ]
     },
     "execution_count": 18,
     "metadata": {},
     "output_type": "execute_result"
    }
   ],
   "source": [
    "embeddings_dict['the']"
   ]
  },
  {
   "cell_type": "code",
   "execution_count": 20,
   "metadata": {},
   "outputs": [],
   "source": [
    "E = []\n",
    "emb_word_idx = {}\n",
    "count = 0\n",
    "list1 = []\n",
    "for word in embeddings_dict :\n",
    "    emb_word_idx[count] = word\n",
    "    count+=1\n",
    "    list1.append(embeddings_dict[word])\n",
    "E = torch.stack(list1)\n",
    "    "
   ]
  },
  {
   "cell_type": "markdown",
   "metadata": {},
   "source": [
    "Normalize the rows so that each row has a norm of 1"
   ]
  },
  {
   "cell_type": "code",
   "execution_count": 23,
   "metadata": {
    "scrolled": true
   },
   "outputs": [],
   "source": [
    "E = torch.nn.functional.normalize(E, dim=1)"
   ]
  },
  {
   "cell_type": "code",
   "execution_count": 24,
   "metadata": {},
   "outputs": [
    {
     "data": {
      "text/plain": [
       "tensor(1.)"
      ]
     },
     "execution_count": 24,
     "metadata": {},
     "output_type": "execute_result"
    }
   ],
   "source": [
    "torch.linalg.vector_norm(E[2222], ord=2)"
   ]
  },
  {
   "attachments": {},
   "cell_type": "markdown",
   "metadata": {},
   "source": [
    "Using a cosine similarity, compute the 10 closest rows of a given vector `target_word_embeddings`.\n",
    "\n",
    "$$\n",
    "\\cos(\\mathbf{u}, \\mathbf{v}) = \\frac{\\mathbf{u} \\cdot \\mathbf{v}}{||\\mathbf{u}|| ||\\mathbf{v}||}\n",
    "$$"
   ]
  },
  {
   "cell_type": "code",
   "execution_count": 25,
   "metadata": {},
   "outputs": [],
   "source": [
    "def closest(target_word_emb, E, count=10):\n",
    "\n",
    "    cos_sims = torch.matmul(E, target_word_emb.T) / (torch.norm(E, dim=1, p = 2) * torch.norm(target_word_emb, p=2))\n",
    "\n",
    "    closest_ids = torch.topk(cos_sims.view(-1), k=count+1).indices.tolist()\n",
    "    print(cos_sims.shape)\n",
    "    closest_ids.pop(0)\n",
    "    return closest_ids                    "
   ]
  },
  {
   "cell_type": "markdown",
   "metadata": {},
   "source": [
    "Using the `closest()` function find the words closest to _table_, _france_, and _sweden_."
   ]
  },
  {
   "cell_type": "code",
   "execution_count": 26,
   "metadata": {},
   "outputs": [
    {
     "data": {
      "text/plain": [
       "tensor([-0.3666,  1.0584, -0.6538,  0.1767,  1.0605, -0.7254, -0.0097,  0.0797,\n",
       "        -0.4649, -0.7435, -0.6415, -0.1684, -0.4893,  0.5667,  0.7310,  0.1839,\n",
       "         0.3437, -0.1916,  0.0661, -1.3434])"
      ]
     },
     "execution_count": 26,
     "metadata": {},
     "output_type": "execute_result"
    }
   ],
   "source": [
    "embeddings_dict['table'][:20]"
   ]
  },
  {
   "cell_type": "code",
   "execution_count": 27,
   "metadata": {},
   "outputs": [
    {
     "name": "stdout",
     "output_type": "stream",
     "text": [
      "torch.Size([400000])\n"
     ]
    },
    {
     "name": "stderr",
     "output_type": "stream",
     "text": [
      "C:\\Users\\Faraz\\AppData\\Local\\Temp\\ipykernel_8508\\1120754783.py:3: UserWarning: The use of `x.T` on tensors of dimension other than 2 to reverse their shape is deprecated and it will throw an error in a future release. Consider `x.mT` to transpose batches of matrices or `x.permute(*torch.arange(x.ndim - 1, -1, -1))` to reverse the dimensions of a tensor. (Triggered internally at ..\\aten\\src\\ATen\\native\\TensorShape.cpp:3575.)\n",
      "  cos_sims = torch.matmul(E, target_word_emb.T) / (torch.norm(E, dim=1, p = 2) * torch.norm(target_word_emb, p=2))\n"
     ]
    },
    {
     "data": {
      "text/plain": [
       "[7221, 241, 3162, 208, 310, 802, 187, 236, 2389, 220]"
      ]
     },
     "execution_count": 27,
     "metadata": {},
     "output_type": "execute_result"
    }
   ],
   "source": [
    "closest(embeddings_dict['table'], E, count=10)"
   ]
  },
  {
   "cell_type": "code",
   "execution_count": 29,
   "metadata": {},
   "outputs": [
    {
     "name": "stdout",
     "output_type": "stream",
     "text": [
      "torch.Size([400000])\n"
     ]
    },
    {
     "data": {
      "text/plain": [
       "['french',\n",
       " 'belgium',\n",
       " 'paris',\n",
       " 'spain',\n",
       " 'netherlands',\n",
       " 'italy',\n",
       " 'germany',\n",
       " 'european',\n",
       " 'switzerland',\n",
       " 'europe']"
      ]
     },
     "execution_count": 29,
     "metadata": {},
     "output_type": "execute_result"
    }
   ],
   "source": [
    "list(map(emb_word_idx.get, closest(embeddings_dict['france'], E, count=10)))"
   ]
  },
  {
   "cell_type": "markdown",
   "metadata": {},
   "source": [
    "## Extracting the ${X}$ and ${Y}$ Lists of Symbols from the Datasets"
   ]
  },
  {
   "attachments": {},
   "cell_type": "markdown",
   "metadata": {},
   "source": [
    "For the 2nd sentence of the training set, should be if I did it correctly:<br/>\n",
    "`x = ['eu', 'rejects', 'german', 'call', 'to', 'boycott', 'british', 'lamb', '.']`\n",
    "\n",
    "`y = ['B-ORG', 'O', 'B-MISC', 'O', 'O', 'O', 'B-MISC', 'O', 'O']`"
   ]
  },
  {
   "cell_type": "code",
   "execution_count": 30,
   "metadata": {},
   "outputs": [],
   "source": [
    "def build_sequences(corpus_dict, key_x='form', key_y='pos', tolower=True):\n",
    "    x_list = []\n",
    "    y_list = []\n",
    "    for sentence in corpus_dict:\n",
    "        x_temp = []\n",
    "        y_temp = []\n",
    "        for word in sentence:\n",
    "            x_temp.append(word.get(key_x).lower())\n",
    "            y_temp.append(word.get(key_y))\n",
    "        x_list.append(x_temp)\n",
    "        y_list.append(y_temp)\n",
    "            \n",
    "    return x_list, y_list"
   ]
  },
  {
   "cell_type": "code",
   "execution_count": 31,
   "metadata": {},
   "outputs": [],
   "source": [
    "train_dict[1][2].get('pos')"
   ]
  },
  {
   "cell_type": "code",
   "execution_count": 32,
   "metadata": {},
   "outputs": [],
   "source": [
    "X_train_symbs, Y_train_symbs = build_sequences(train_dict, key_x='form', key_y='ner')\n",
    "X_val_symbs, Y_val_symbs = build_sequences(val_dict, key_x='form', key_y='ner')"
   ]
  },
  {
   "cell_type": "code",
   "execution_count": 34,
   "metadata": {},
   "outputs": [
    {
     "data": {
      "text/plain": [
       "['eu', 'rejects', 'german', 'call', 'to', 'boycott', 'british', 'lamb', '.']"
      ]
     },
     "execution_count": 34,
     "metadata": {},
     "output_type": "execute_result"
    }
   ],
   "source": [
    "X_train_symbs[1]"
   ]
  },
  {
   "cell_type": "code",
   "execution_count": 35,
   "metadata": {},
   "outputs": [
    {
     "data": {
      "text/plain": [
       "['B-ORG', 'O', 'B-MISC', 'O', 'O', 'O', 'B-MISC', 'O', 'O']"
      ]
     },
     "execution_count": 35,
     "metadata": {},
     "output_type": "execute_result"
    }
   ],
   "source": [
    "Y_train_symbs[1]"
   ]
  },
  {
   "cell_type": "markdown",
   "metadata": {},
   "source": [
    "## Vocabulary"
   ]
  },
  {
   "attachments": {},
   "cell_type": "markdown",
   "metadata": {},
   "source": [
    "Vocabulary of all the words observed in the training set as well as in GloVe. \n",
    "\n",
    "First extract the list of unique words `words` from the CoNLL training set and the list of NER tags, `ner`."
   ]
  },
  {
   "cell_type": "code",
   "execution_count": 37,
   "metadata": {},
   "outputs": [],
   "source": [
    "words = set()\n",
    "for scentence in X_train_symbs:\n",
    "    for word in scentence:\n",
    "        words.add(word)\n",
    "word_list = sorted(words)"
   ]
  },
  {
   "cell_type": "code",
   "execution_count": 38,
   "metadata": {},
   "outputs": [],
   "source": [
    "tags = set()\n",
    "for row in Y_train_symbs:\n",
    "    for tag in row:\n",
    "        tags.add(tag)\n",
    "tag_list = sorted(tags)"
   ]
  },
  {
   "cell_type": "code",
   "execution_count": 39,
   "metadata": {},
   "outputs": [
    {
     "name": "stdout",
     "output_type": "stream",
     "text": [
      "# words seen in training corpus: 21010\n",
      "# NER tags seen: 9\n"
     ]
    }
   ],
   "source": [
    "print('# words seen in training corpus:', len(words))\n",
    "print('# NER tags seen:', len(tags))"
   ]
  },
  {
   "cell_type": "code",
   "execution_count": 41,
   "metadata": {},
   "outputs": [
    {
     "data": {
      "text/plain": [
       "['adequate',\n",
       " 'adige',\n",
       " 'adj',\n",
       " 'adjourned',\n",
       " 'adjust',\n",
       " 'adjusted',\n",
       " 'adjusting',\n",
       " 'adjustments',\n",
       " 'adkins',\n",
       " 'administer']"
      ]
     },
     "execution_count": 41,
     "metadata": {},
     "output_type": "execute_result"
    }
   ],
   "source": [
    "word_list[4000:4010]"
   ]
  },
  {
   "cell_type": "code",
   "execution_count": 42,
   "metadata": {},
   "outputs": [
    {
     "data": {
      "text/plain": [
       "['B-LOC', 'B-MISC', 'B-ORG', 'B-PER', 'I-LOC', 'I-MISC', 'I-ORG', 'I-PER', 'O']"
      ]
     },
     "execution_count": 42,
     "metadata": {},
     "output_type": "execute_result"
    }
   ],
   "source": [
    "tag_list[:10]"
   ]
  },
  {
   "attachments": {},
   "cell_type": "markdown",
   "metadata": {},
   "source": [
    "Then, merge the list of CoNLL words with the words in the embeddings file"
   ]
  },
  {
   "cell_type": "code",
   "execution_count": 43,
   "metadata": {},
   "outputs": [],
   "source": [
    "vocabulary_words = set(word_list).union(set(embedded_words))\n",
    "vocabulary_words = sorted(list(vocabulary_words))"
   ]
  },
  {
   "cell_type": "code",
   "execution_count": 44,
   "metadata": {},
   "outputs": [
    {
     "name": "stdout",
     "output_type": "stream",
     "text": [
      "# words in the vocabulary: embeddings and corpus: 402595\n"
     ]
    }
   ],
   "source": [
    "print('# words in the vocabulary: embeddings and corpus:', len(vocabulary_words))"
   ]
  },
  {
   "cell_type": "markdown",
   "metadata": {},
   "source": [
    "## Index"
   ]
  },
  {
   "attachments": {},
   "cell_type": "markdown",
   "metadata": {},
   "source": [
    "Create the indices `word2idx`, `tag2idx` and inverted indices `idx2word`, `idx2tag` for the words and the tags. Index 0 for the padding symbol and 1 for unknown words. This means that the first word will start at index 2. For the tags, you will start at index 1."
   ]
  },
  {
   "cell_type": "code",
   "execution_count": 47,
   "metadata": {},
   "outputs": [],
   "source": [
    "word2idx = {}\n",
    "tag2idx = {}\n",
    "count = 2\n",
    "for word in vocabulary_words:\n",
    "    word2idx[word] = count\n",
    "    count+=1\n",
    "count = 1\n",
    "for tag in tag_list:\n",
    "    tag2idx[tag] = count\n",
    "    count+=1"
   ]
  },
  {
   "cell_type": "code",
   "execution_count": 48,
   "metadata": {},
   "outputs": [
    {
     "data": {
      "text/plain": [
       "{2: '!',\n",
       " 3: '!!',\n",
       " 4: '!!!',\n",
       " 5: '!!!!',\n",
       " 6: '!!!!!',\n",
       " 7: '!?',\n",
       " 8: '!?!',\n",
       " 9: '\"',\n",
       " 10: '#',\n",
       " 11: '##',\n",
       " 12: '###',\n",
       " 13: '#a',\n",
       " 14: '#aabccc',\n",
       " 15: '#b',\n",
       " 16: '#c',\n",
       " 17: '#cc',\n",
       " 18: '#ccc',\n",
       " 19: '#cccccc',\n",
       " 20: '#ccccff',\n",
       " 21: '#d',\n",
       " 22: '#daa',\n",
       " 23: '#dcdcdc',\n",
       " 24: '#e',\n",
       " 25: '#f',\n",
       " 26: '#faf',\n",
       " 27: '#ff',\n",
       " 28: '#ffffff',\n",
       " 29: '#m',\n",
       " 30: '#p',\n",
       " 31: '#s',\n",
       " 32: '#the',\n",
       " 33: '#ukqa',\n",
       " 34: '#ukqaqfqs',\n",
       " 35: '#ukqaqs',\n",
       " 36: '#ukqaqsqf',\n",
       " 37: '#ukqaqsqm',\n",
       " 38: '#ukqaqtqszbzszr',\n",
       " 39: '#ukqec',\n",
       " 40: '#ukqeqtqszb',\n",
       " 41: '$',\n",
       " 42: '%',\n",
       " 43: '&',\n",
       " 44: '&#8211;',\n",
       " 45: '&#8217;',\n",
       " 46: '&#8220;',\n",
       " 47: '&#8221;',\n",
       " 48: '&amp;',\n",
       " 49: \"'\",\n",
       " 50: \"''\",\n",
       " 51: \"'00\",\n",
       " 52: \"'01\",\n",
       " 53: \"'02\",\n",
       " 54: \"'03\",\n",
       " 55: \"'04\",\n",
       " 56: \"'05\",\n",
       " 57: \"'06\",\n",
       " 58: \"'07\",\n",
       " 59: \"'08\",\n",
       " 60: \"'09\",\n",
       " 61: \"'10\",\n",
       " 62: \"'11\",\n",
       " 63: \"'12\",\n",
       " 64: \"'13\",\n",
       " 65: \"'14\",\n",
       " 66: \"'15\",\n",
       " 67: \"'20\",\n",
       " 68: \"'20s\",\n",
       " 69: \"'25\",\n",
       " 70: \"'27\",\n",
       " 71: \"'28\",\n",
       " 72: \"'29\",\n",
       " 73: \"'30\",\n",
       " 74: \"'30s\",\n",
       " 75: \"'32\",\n",
       " 76: \"'34\",\n",
       " 77: \"'36\",\n",
       " 78: \"'37\",\n",
       " 79: \"'38\",\n",
       " 80: \"'39\",\n",
       " 81: \"'40\",\n",
       " 82: \"'40s\",\n",
       " 83: \"'41\",\n",
       " 84: \"'42\",\n",
       " 85: \"'44\",\n",
       " 86: \"'45\",\n",
       " 87: \"'46\",\n",
       " 88: \"'47\",\n",
       " 89: \"'48\",\n",
       " 90: \"'49\",\n",
       " 91: \"'50\",\n",
       " 92: \"'50s\",\n",
       " 93: \"'51\",\n",
       " 94: \"'52\",\n",
       " 95: \"'53\",\n",
       " 96: \"'54\",\n",
       " 97: \"'55\",\n",
       " 98: \"'56\",\n",
       " 99: \"'57\",\n",
       " 100: \"'58\",\n",
       " 101: \"'59\",\n",
       " 102: \"'60\",\n",
       " 103: \"'60s\",\n",
       " 104: \"'61\",\n",
       " 105: \"'62\",\n",
       " 106: \"'63\",\n",
       " 107: \"'64\",\n",
       " 108: \"'65\",\n",
       " 109: \"'66\",\n",
       " 110: \"'67\",\n",
       " 111: \"'68\",\n",
       " 112: \"'69\",\n",
       " 113: \"'70\",\n",
       " 114: \"'70s\",\n",
       " 115: \"'71\",\n",
       " 116: \"'72\",\n",
       " 117: \"'73\",\n",
       " 118: \"'74\",\n",
       " 119: \"'75\",\n",
       " 120: \"'76\",\n",
       " 121: \"'77\",\n",
       " 122: \"'78\",\n",
       " 123: \"'79\",\n",
       " 124: \"'80\",\n",
       " 125: \"'80s\",\n",
       " 126: \"'81\",\n",
       " 127: \"'82\",\n",
       " 128: \"'83\",\n",
       " 129: \"'84\",\n",
       " 130: \"'85\",\n",
       " 131: \"'86\",\n",
       " 132: \"'87\",\n",
       " 133: \"'88\",\n",
       " 134: \"'89\",\n",
       " 135: \"'90\",\n",
       " 136: \"'90s\",\n",
       " 137: \"'91\",\n",
       " 138: \"'92\",\n",
       " 139: \"'93\",\n",
       " 140: \"'94\",\n",
       " 141: \"'95\",\n",
       " 142: \"'96\",\n",
       " 143: \"'97\",\n",
       " 144: \"'98\",\n",
       " 145: \"'99\",\n",
       " 146: \"'cause\",\n",
       " 147: \"'d\",\n",
       " 148: \"'em\",\n",
       " 149: \"'ll\",\n",
       " 150: \"'m\",\n",
       " 151: \"'n\",\n",
       " 152: \"'n'\",\n",
       " 153: \"'re\",\n",
       " 154: \"'s\",\n",
       " 155: \"'til\",\n",
       " 156: \"'till\",\n",
       " 157: \"'twas\",\n",
       " 158: \"'ve\",\n",
       " 159: '(',\n",
       " 160: '(02)',\n",
       " 161: '(020)',\n",
       " 162: '(026)',\n",
       " 163: '(029)',\n",
       " 164: '(171)',\n",
       " 165: '(201)',\n",
       " 166: '(202)',\n",
       " 167: '(203)',\n",
       " 168: '(205)',\n",
       " 169: '(206)',\n",
       " 170: '(207)',\n",
       " 171: '(208)',\n",
       " 172: '(209)',\n",
       " 173: '(210)',\n",
       " 174: '(212)',\n",
       " 175: '(212)556-3622',\n",
       " 176: '(212)556-7652',\n",
       " 177: '(213)',\n",
       " 178: '(214)',\n",
       " 179: '(215)',\n",
       " 180: '(216)',\n",
       " 181: '(239)',\n",
       " 182: '(248)',\n",
       " 183: '(250)',\n",
       " 184: '(301)',\n",
       " 185: '(303)',\n",
       " 186: '(305)',\n",
       " 187: '(307)',\n",
       " 188: '(310)',\n",
       " 189: '(312)',\n",
       " 190: '(313)',\n",
       " 191: '(314)',\n",
       " 192: '(315)',\n",
       " 193: '(316)',\n",
       " 194: '(318)',\n",
       " 195: '(323)',\n",
       " 196: '(352)',\n",
       " 197: '(360)',\n",
       " 198: '(401)',\n",
       " 199: '(403)',\n",
       " 200: '(404)',\n",
       " 201: '(405)',\n",
       " 202: '(406)',\n",
       " 203: '(407)',\n",
       " 204: '(408)',\n",
       " 205: '(410)',\n",
       " 206: '(412)',\n",
       " 207: '(413)',\n",
       " 208: '(414)',\n",
       " 209: '(415)',\n",
       " 210: '(416)',\n",
       " 211: '(418)',\n",
       " 212: '(419)',\n",
       " 213: '(435)',\n",
       " 214: '(45)',\n",
       " 215: '(480)',\n",
       " 216: '(502)',\n",
       " 217: '(503)',\n",
       " 218: '(504)',\n",
       " 219: '(505)',\n",
       " 220: '(508)',\n",
       " 221: '(510)',\n",
       " 222: '(512)',\n",
       " 223: '(513)',\n",
       " 224: '(514)',\n",
       " 225: '(516)',\n",
       " 226: '(518)',\n",
       " 227: '(520)',\n",
       " 228: '(525)',\n",
       " 229: '(530)',\n",
       " 230: '(540)',\n",
       " 231: '(541)',\n",
       " 232: '(559)',\n",
       " 233: '(561)',\n",
       " 234: '(562)',\n",
       " 235: '(573)',\n",
       " 236: '(602)',\n",
       " 237: '(603)',\n",
       " 238: '(604)',\n",
       " 239: '(607)',\n",
       " 240: '(609)',\n",
       " 241: '(610)',\n",
       " 242: '(612)',\n",
       " 243: '(613)',\n",
       " 244: '(615)',\n",
       " 245: '(617)',\n",
       " 246: '(619)',\n",
       " 247: '(626)',\n",
       " 248: '(631)',\n",
       " 249: '(65)',\n",
       " 250: '(650)',\n",
       " 251: '(651)',\n",
       " 252: '(661)',\n",
       " 253: '(702)',\n",
       " 254: '(703)',\n",
       " 255: '(704)',\n",
       " 256: '(707)',\n",
       " 257: '(708)',\n",
       " 258: '(713)',\n",
       " 259: '(714)',\n",
       " 260: '(716)',\n",
       " 261: '(717)',\n",
       " 262: '(718)',\n",
       " 263: '(719)',\n",
       " 264: '(727)',\n",
       " 265: '(727)893-8241',\n",
       " 266: '(732)',\n",
       " 267: '(734)',\n",
       " 268: '(757)',\n",
       " 269: '(760)',\n",
       " 270: '(770)',\n",
       " 271: '(773)',\n",
       " 272: '(775)',\n",
       " 273: '(787)',\n",
       " 274: '(800)',\n",
       " 275: '(801)',\n",
       " 276: '(802)',\n",
       " 277: '(803)',\n",
       " 278: '(804)',\n",
       " 279: '(805)',\n",
       " 280: '(806)',\n",
       " 281: '(808)',\n",
       " 282: '(809)',\n",
       " 283: '(810)',\n",
       " 284: '(813)',\n",
       " 285: '(816)',\n",
       " 286: '(817)',\n",
       " 287: '(818)',\n",
       " 288: '(828)',\n",
       " 289: '(830)',\n",
       " 290: '(831)',\n",
       " 291: '(843)',\n",
       " 292: '(845)',\n",
       " 293: '(847)',\n",
       " 294: '(850)',\n",
       " 295: '(852)',\n",
       " 296: '(858)',\n",
       " 297: '(860)',\n",
       " 298: '(863)',\n",
       " 299: '(864)',\n",
       " 300: '(866)',\n",
       " 301: '(877)',\n",
       " 302: '(888)',\n",
       " 303: '(900)',\n",
       " 304: '(901)',\n",
       " 305: '(903)',\n",
       " 306: '(904)',\n",
       " 307: '(907)',\n",
       " 308: '(908)',\n",
       " 309: '(909)',\n",
       " 310: '(912)',\n",
       " 311: '(913)',\n",
       " 312: '(914)',\n",
       " 313: '(915)',\n",
       " 314: '(916)',\n",
       " 315: '(919)',\n",
       " 316: '(925)',\n",
       " 317: '(928)',\n",
       " 318: '(937)',\n",
       " 319: '(941)',\n",
       " 320: '(949)',\n",
       " 321: '(954)',\n",
       " 322: '(970)',\n",
       " 323: '(972)',\n",
       " 324: '(978)',\n",
       " 325: ')',\n",
       " 326: '*',\n",
       " 327: '**',\n",
       " 328: '***',\n",
       " 329: '**general',\n",
       " 330: '*indices',\n",
       " 331: '*name',\n",
       " 332: '*note',\n",
       " 333: '+',\n",
       " 334: '++359-2',\n",
       " 335: '+.01',\n",
       " 336: '+.02',\n",
       " 337: '+.03',\n",
       " 338: '+.04',\n",
       " 339: '+.05',\n",
       " 340: '+.06',\n",
       " 341: '+.07',\n",
       " 342: '+.08',\n",
       " 343: '+.09',\n",
       " 344: '+.10',\n",
       " 345: '+.11',\n",
       " 346: '+.12',\n",
       " 347: '+.13',\n",
       " 348: '+.14',\n",
       " 349: '+.15',\n",
       " 350: '+.19',\n",
       " 351: '+.20',\n",
       " 352: '+.25',\n",
       " 353: '+.31',\n",
       " 354: '+.38',\n",
       " 355: '+.44',\n",
       " 356: '+.50',\n",
       " 357: '+.56',\n",
       " 358: '+.75',\n",
       " 359: '+0',\n",
       " 360: '+0,2',\n",
       " 361: '+0.0',\n",
       " 362: '+0.05',\n",
       " 363: '+0.1',\n",
       " 364: '+0.2',\n",
       " 365: '+0.25',\n",
       " 366: '+0.3',\n",
       " 367: '+0.4',\n",
       " 368: '+0.4m',\n",
       " 369: '+0.5',\n",
       " 370: '+0.50',\n",
       " 371: '+0.6',\n",
       " 372: '+0.7',\n",
       " 373: '+0.75',\n",
       " 374: '+0.8',\n",
       " 375: '+0.9',\n",
       " 376: '+0.9;+23.6',\n",
       " 377: '+00',\n",
       " 378: '+01',\n",
       " 379: '+1',\n",
       " 380: '+1,161',\n",
       " 381: '+1.0',\n",
       " 382: '+1.00',\n",
       " 383: '+1.1',\n",
       " 384: '+1.2',\n",
       " 385: '+1.25',\n",
       " 386: '+1.3',\n",
       " 387: '+1.4',\n",
       " 388: '+1.5',\n",
       " 389: '+1.50',\n",
       " 390: '+1.6',\n",
       " 391: '+1.7',\n",
       " 392: '+1.75',\n",
       " 393: '+1.7;+22.0',\n",
       " 394: '+1.8',\n",
       " 395: '+1.9',\n",
       " 396: '+10',\n",
       " 397: '+10.00',\n",
       " 398: '+10.8',\n",
       " 399: '+100',\n",
       " 400: '+105',\n",
       " 401: '+11',\n",
       " 402: '+11.00',\n",
       " 403: '+12',\n",
       " 404: '+12,696',\n",
       " 405: '+13',\n",
       " 406: '+14',\n",
       " 407: '+15',\n",
       " 408: '+15,272',\n",
       " 409: '+16',\n",
       " 410: '+16.4',\n",
       " 411: '+167,330',\n",
       " 412: '+168,130',\n",
       " 413: '+17',\n",
       " 414: '+18',\n",
       " 415: '+18.3',\n",
       " 416: '+19',\n",
       " 417: '+2',\n",
       " 418: '+2.0',\n",
       " 419: '+2.00',\n",
       " 420: '+2.1',\n",
       " 421: '+2.25',\n",
       " 422: '+2.3r',\n",
       " 423: '+2.4',\n",
       " 424: '+2.5',\n",
       " 425: '+2.50',\n",
       " 426: '+2.6',\n",
       " 427: '+2.75',\n",
       " 428: '+20',\n",
       " 429: '+21',\n",
       " 430: '+22',\n",
       " 431: '+225',\n",
       " 432: '+23',\n",
       " 433: '+230.4',\n",
       " 434: '+24',\n",
       " 435: '+25',\n",
       " 436: '+27',\n",
       " 437: '+282.1',\n",
       " 438: '+3',\n",
       " 439: '+3,428',\n",
       " 440: '+3,831',\n",
       " 441: '+3.00',\n",
       " 442: '+3.06',\n",
       " 443: '+3.4',\n",
       " 444: '+3.5',\n",
       " 445: '+3.50',\n",
       " 446: '+3.6',\n",
       " 447: '+3.7',\n",
       " 448: '+30',\n",
       " 449: '+301',\n",
       " 450: '+31',\n",
       " 451: '+31,230',\n",
       " 452: '+310.4',\n",
       " 453: '+32',\n",
       " 454: '+33',\n",
       " 455: '+331',\n",
       " 456: '+34',\n",
       " 457: '+35',\n",
       " 458: '+353',\n",
       " 459: '+358',\n",
       " 460: '+361',\n",
       " 461: '+381',\n",
       " 462: '+387-71-663-864',\n",
       " 463: '+39',\n",
       " 464: '+4',\n",
       " 465: '+4.00',\n",
       " 466: '+4.2r',\n",
       " 467: '+4.50',\n",
       " 468: '+4.7',\n",
       " 469: '+40',\n",
       " 470: '+400.9',\n",
       " 471: '+41',\n",
       " 472: '+431',\n",
       " 473: '+44',\n",
       " 474: '+45',\n",
       " 475: '+46-8-700',\n",
       " 476: '+47',\n",
       " 477: '+48',\n",
       " 478: '+49',\n",
       " 479: '+5',\n",
       " 480: '+5.00',\n",
       " 481: '+5.2',\n",
       " 482: '+5.50',\n",
       " 483: '+50',\n",
       " 484: '+52',\n",
       " 485: '+525',\n",
       " 486: '+5255-3300-7600',\n",
       " 487: '+541',\n",
       " 488: '+6',\n",
       " 489: '+6.00',\n",
       " 490: '+60',\n",
       " 491: '+6221',\n",
       " 492: '+65',\n",
       " 493: '+65-8703086',\n",
       " 494: '+66',\n",
       " 495: '+6613377',\n",
       " 496: '+67',\n",
       " 497: '+7',\n",
       " 498: '+7.00',\n",
       " 499: '+7.1',\n",
       " 500: '+7.3;-3.6',\n",
       " 501: '+7.50',\n",
       " 502: '+70',\n",
       " 503: '+7095',\n",
       " 504: '+75',\n",
       " 505: '+78',\n",
       " 506: '+8',\n",
       " 507: '+8.00',\n",
       " 508: '+80',\n",
       " 509: '+9',\n",
       " 510: '+9.00',\n",
       " 511: '+9.8',\n",
       " 512: '+90',\n",
       " 513: '+90-212-275',\n",
       " 514: '+91',\n",
       " 515: '+91-11-3012024',\n",
       " 516: '+91-22-265',\n",
       " 517: ',',\n",
       " 518: ',0',\n",
       " 519: ',00',\n",
       " 520: ',000',\n",
       " 521: ',000,000',\n",
       " 522: ',0000',\n",
       " 523: ',001',\n",
       " 524: ',007',\n",
       " 525: ',040',\n",
       " 526: ',050',\n",
       " 527: ',060',\n",
       " 528: ',070',\n",
       " 529: ',080',\n",
       " 530: ',082,500',\n",
       " 531: ',090',\n",
       " 532: ',1',\n",
       " 533: ',10',\n",
       " 534: ',100',\n",
       " 535: ',102',\n",
       " 536: ',103',\n",
       " 537: ',104',\n",
       " 538: ',105',\n",
       " 539: ',106',\n",
       " 540: ',107',\n",
       " 541: ',108',\n",
       " 542: ',109',\n",
       " 543: ',11',\n",
       " 544: ',110',\n",
       " 545: ',114',\n",
       " 546: ',115',\n",
       " 547: ',12',\n",
       " 548: ',120',\n",
       " 549: ',125',\n",
       " 550: ',13',\n",
       " 551: ',130',\n",
       " 552: ',14',\n",
       " 553: ',140',\n",
       " 554: ',148',\n",
       " 555: ',15',\n",
       " 556: ',150',\n",
       " 557: ',16',\n",
       " 558: ',160',\n",
       " 559: ',17',\n",
       " 560: ',170',\n",
       " 561: ',18',\n",
       " 562: ',180',\n",
       " 563: ',185',\n",
       " 564: ',19',\n",
       " 565: ',190',\n",
       " 566: ',195',\n",
       " 567: ',1996',\n",
       " 568: ',1998',\n",
       " 569: ',1999',\n",
       " 570: ',2',\n",
       " 571: ',2,3',\n",
       " 572: ',20',\n",
       " 573: ',200',\n",
       " 574: ',2009',\n",
       " 575: ',2012',\n",
       " 576: ',2013',\n",
       " 577: ',21',\n",
       " 578: ',210',\n",
       " 579: ',22',\n",
       " 580: ',220',\n",
       " 581: ',230',\n",
       " 582: ',240',\n",
       " 583: ',25',\n",
       " 584: ',250',\n",
       " 585: ',255',\n",
       " 586: ',260',\n",
       " 587: ',270',\n",
       " 588: ',275',\n",
       " 589: ',280',\n",
       " 590: ',290',\n",
       " 591: ',295',\n",
       " 592: ',3',\n",
       " 593: ',300',\n",
       " 594: ',310',\n",
       " 595: ',320',\n",
       " 596: ',330',\n",
       " 597: ',340',\n",
       " 598: ',345',\n",
       " 599: ',350',\n",
       " 600: ',360',\n",
       " 601: ',370',\n",
       " 602: ',380',\n",
       " 603: ',390',\n",
       " 604: ',4',\n",
       " 605: ',400',\n",
       " 606: ',410',\n",
       " 607: ',415',\n",
       " 608: ',420',\n",
       " 609: ',430',\n",
       " 610: ',440',\n",
       " 611: ',450',\n",
       " 612: ',46',\n",
       " 613: ',460',\n",
       " 614: ',470',\n",
       " 615: ',480',\n",
       " 616: ',490',\n",
       " 617: ',496',\n",
       " 618: ',5',\n",
       " 619: ',500',\n",
       " 620: ',504',\n",
       " 621: ',510',\n",
       " 622: ',520',\n",
       " 623: ',530',\n",
       " 624: ',540',\n",
       " 625: ',550',\n",
       " 626: ',554.89',\n",
       " 627: ',560',\n",
       " 628: ',565',\n",
       " 629: ',570',\n",
       " 630: ',580',\n",
       " 631: ',590',\n",
       " 632: ',6',\n",
       " 633: ',600',\n",
       " 634: ',620',\n",
       " 635: ',630',\n",
       " 636: ',640',\n",
       " 637: ',650',\n",
       " 638: ',660',\n",
       " 639: ',670',\n",
       " 640: ',675',\n",
       " 641: ',680',\n",
       " 642: ',690',\n",
       " 643: ',7',\n",
       " 644: ',700',\n",
       " 645: ',720',\n",
       " 646: ',730',\n",
       " 647: ',740',\n",
       " 648: ',750',\n",
       " 649: ',760',\n",
       " 650: ',763',\n",
       " 651: ',770',\n",
       " 652: ',775',\n",
       " 653: ',78',\n",
       " 654: ',780',\n",
       " 655: ',790',\n",
       " 656: ',8',\n",
       " 657: ',800',\n",
       " 658: ',815',\n",
       " 659: ',820',\n",
       " 660: ',830',\n",
       " 661: ',840',\n",
       " 662: ',850',\n",
       " 663: ',860',\n",
       " 664: ',870',\n",
       " 665: ',880',\n",
       " 666: ',890',\n",
       " 667: ',9',\n",
       " 668: ',900',\n",
       " 669: ',910',\n",
       " 670: ',920',\n",
       " 671: ',930',\n",
       " 672: ',940',\n",
       " 673: ',950',\n",
       " 674: ',960',\n",
       " 675: ',970',\n",
       " 676: ',980',\n",
       " 677: ',990',\n",
       " 678: ',995',\n",
       " 679: '-',\n",
       " 680: '--',\n",
       " 681: '---',\n",
       " 682: '----',\n",
       " 683: '-----',\n",
       " 684: '------',\n",
       " 685: '-------',\n",
       " 686: '--------',\n",
       " 687: '---------',\n",
       " 688: '----------',\n",
       " 689: '-----------',\n",
       " 690: '------------',\n",
       " 691: '-------------',\n",
       " 692: '--------------',\n",
       " 693: '---------------',\n",
       " 694: '----------------',\n",
       " 695: '-----------------',\n",
       " 696: '------------------',\n",
       " 697: '-------------------',\n",
       " 698: '--------------------',\n",
       " 699: '---------------------',\n",
       " 700: '----------------------',\n",
       " 701: '-----------------------',\n",
       " 702: '------------------------',\n",
       " 703: '-------------------------',\n",
       " 704: '--------------------------',\n",
       " 705: '----------------------------',\n",
       " 706: '-----------------------------',\n",
       " 707: '--------------------------------',\n",
       " 708: '---------------------------------',\n",
       " 709: '----------------------------------',\n",
       " 710: '---------------------------------------',\n",
       " 711: '----------------------------------------------',\n",
       " 712: '-----------------------------------------------',\n",
       " 713: '------------------------------------------------',\n",
       " 714: '-------------------------------------------------',\n",
       " 715: '--------------------------------------------------',\n",
       " 716: '---------------------------------------------------',\n",
       " 717: '----------------------------------------------------',\n",
       " 718: '------------------------------------------------------',\n",
       " 719: '-------------------------------------------------------',\n",
       " 720: '---------------------------------------------------------',\n",
       " 721: '------------------------------------------------------------',\n",
       " 722: '-------------------------------------------------------------',\n",
       " 723: '-----------------------------------------------------------------',\n",
       " 724: '------------------------------------------------------------------',\n",
       " 725: '--------------------------------------------------------------------',\n",
       " 726: '-.02',\n",
       " 727: '-.500',\n",
       " 728: '-0',\n",
       " 729: '-0.07',\n",
       " 730: '-0.09',\n",
       " 731: '-0.1',\n",
       " 732: '-0.2',\n",
       " 733: '-0.25',\n",
       " 734: '-0.3',\n",
       " 735: '-0.4',\n",
       " 736: '-0.5',\n",
       " 737: '-0.50',\n",
       " 738: '-0.6',\n",
       " 739: '-0.7',\n",
       " 740: '-0.75',\n",
       " 741: '-0.8',\n",
       " 742: '-0.9',\n",
       " 743: '-01',\n",
       " 744: '-02',\n",
       " 745: '-03',\n",
       " 746: '-04',\n",
       " 747: '-0400',\n",
       " 748: '-05',\n",
       " 749: '-0500',\n",
       " 750: '-06',\n",
       " 751: '-07',\n",
       " 752: '-08',\n",
       " 753: '-09',\n",
       " 754: '-1',\n",
       " 755: '-1.0',\n",
       " 756: '-1.00',\n",
       " 757: '-1.1',\n",
       " 758: '-1.2',\n",
       " 759: '-1.25',\n",
       " 760: '-1.3',\n",
       " 761: '-1.4',\n",
       " 762: '-1.5',\n",
       " 763: '-1.50',\n",
       " 764: '-1.6',\n",
       " 765: '-1.7',\n",
       " 766: '-1.75',\n",
       " 767: '-1.8',\n",
       " 768: '-1.9',\n",
       " 769: '-10',\n",
       " 770: '-10.00',\n",
       " 771: '-100',\n",
       " 772: '-105',\n",
       " 773: '-10:00',\n",
       " 774: '-10:30',\n",
       " 775: '-11',\n",
       " 776: '-110',\n",
       " 777: '-117',\n",
       " 778: '-11:00',\n",
       " 779: '-12',\n",
       " 780: '-12:00',\n",
       " 781: '-13',\n",
       " 782: '-14',\n",
       " 783: '-15',\n",
       " 784: '-15:00',\n",
       " 785: '-16',\n",
       " 786: '-17',\n",
       " 787: '-18',\n",
       " 788: '-18:00',\n",
       " 789: '-19',\n",
       " 790: '-1927',\n",
       " 791: '-1990',\n",
       " 792: '-1999',\n",
       " 793: '-2',\n",
       " 794: '-2,3',\n",
       " 795: '-2.0',\n",
       " 796: '-2.00',\n",
       " 797: '-2.1',\n",
       " 798: '-2.2',\n",
       " 799: '-2.25',\n",
       " 800: '-2.3',\n",
       " 801: '-2.4',\n",
       " 802: '-2.5',\n",
       " 803: '-2.50',\n",
       " 804: '-2.6',\n",
       " 805: '-2.7',\n",
       " 806: '-2.8',\n",
       " 807: '-2.9',\n",
       " 808: '-20',\n",
       " 809: '-200',\n",
       " 810: '-2000',\n",
       " 811: '-2006',\n",
       " 812: '-2009',\n",
       " 813: '-2010',\n",
       " 814: '-20:00',\n",
       " 815: '-21',\n",
       " 816: '-22',\n",
       " 817: '-23',\n",
       " 818: '-24',\n",
       " 819: '-25',\n",
       " 820: '-26',\n",
       " 821: '-27',\n",
       " 822: '-28',\n",
       " 823: '-29',\n",
       " 824: '-3',\n",
       " 825: '-3.0',\n",
       " 826: '-3.00',\n",
       " 827: '-3.1',\n",
       " 828: '-3.2',\n",
       " 829: '-3.3',\n",
       " 830: '-3.4',\n",
       " 831: '-3.5',\n",
       " 832: '-3.50',\n",
       " 833: '-3.7',\n",
       " 834: '-3.8',\n",
       " 835: '-3.9',\n",
       " 836: '-30',\n",
       " 837: '-300',\n",
       " 838: '-31',\n",
       " 839: '-32',\n",
       " 840: '-33',\n",
       " 841: '-34',\n",
       " 842: '-35',\n",
       " 843: '-36',\n",
       " 844: '-37',\n",
       " 845: '-38',\n",
       " 846: '-39',\n",
       " 847: '-4',\n",
       " 848: '-4.0',\n",
       " 849: '-4.00',\n",
       " 850: '-4.1',\n",
       " 851: '-4.2',\n",
       " 852: '-4.5',\n",
       " 853: '-4.50',\n",
       " 854: '-4.7',\n",
       " 855: '-40',\n",
       " 856: '-400',\n",
       " 857: '-41',\n",
       " 858: '-42',\n",
       " 859: '-43',\n",
       " 860: '-44',\n",
       " 861: '-45',\n",
       " 862: '-46',\n",
       " 863: '-47',\n",
       " 864: '-48',\n",
       " 865: '-49',\n",
       " 866: '-5',\n",
       " 867: '-5.00',\n",
       " 868: '-5.1',\n",
       " 869: '-5.6',\n",
       " 870: '-50',\n",
       " 871: '-500',\n",
       " 872: '-5000',\n",
       " 873: '-51',\n",
       " 874: '-52',\n",
       " 875: '-53',\n",
       " 876: '-54',\n",
       " 877: '-55',\n",
       " 878: '-56',\n",
       " 879: '-57',\n",
       " 880: '-58',\n",
       " 881: '-59',\n",
       " 882: '-6',\n",
       " 883: '-6.0',\n",
       " 884: '-6.00',\n",
       " 885: '-6.5',\n",
       " 886: '-6.50',\n",
       " 887: '-6.7',\n",
       " 888: '-60',\n",
       " 889: '-600',\n",
       " 890: '-61',\n",
       " 891: '-62',\n",
       " 892: '-63',\n",
       " 893: '-64',\n",
       " 894: '-65',\n",
       " 895: '-66',\n",
       " 896: '-67',\n",
       " 897: '-68',\n",
       " 898: '-69',\n",
       " 899: '-7',\n",
       " 900: '-7.00',\n",
       " 901: '-70',\n",
       " 902: '-71',\n",
       " 903: '-72',\n",
       " 904: '-73',\n",
       " 905: '-74',\n",
       " 906: '-75',\n",
       " 907: '-77',\n",
       " 908: '-78',\n",
       " 909: '-79',\n",
       " 910: '-8',\n",
       " 911: '-8.00',\n",
       " 912: '-80',\n",
       " 913: '-800',\n",
       " 914: '-81',\n",
       " 915: '-84',\n",
       " 916: '-85',\n",
       " 917: '-86',\n",
       " 918: '-88',\n",
       " 919: '-89',\n",
       " 920: '-8:11',\n",
       " 921: '-8:30',\n",
       " 922: '-9',\n",
       " 923: '-9.00',\n",
       " 924: '-90',\n",
       " 925: '-900',\n",
       " 926: '-91',\n",
       " 927: '-92',\n",
       " 928: '-93',\n",
       " 929: '-94',\n",
       " 930: '-95',\n",
       " 931: '-96',\n",
       " 932: '-99',\n",
       " 933: '-9:00',\n",
       " 934: '-9:30',\n",
       " 935: '-docstart-',\n",
       " 936: '.',\n",
       " 937: '..',\n",
       " 938: '...',\n",
       " 939: '....',\n",
       " 940: '.....',\n",
       " 941: '...and',\n",
       " 942: '...for',\n",
       " 943: '.0',\n",
       " 944: '.00',\n",
       " 945: '.000',\n",
       " 946: '.000001',\n",
       " 947: '.000088',\n",
       " 948: '.000104',\n",
       " 949: '.000105',\n",
       " 950: '.000106',\n",
       " 951: '.000434',\n",
       " 952: '.000435',\n",
       " 953: '.000446',\n",
       " 954: '.000660',\n",
       " 955: '.000661',\n",
       " 956: '.000663',\n",
       " 957: '.001',\n",
       " 958: '.0014',\n",
       " 959: '.002',\n",
       " 960: '.0032',\n",
       " 961: '.0033',\n",
       " 962: '.0034',\n",
       " 963: '.0035',\n",
       " 964: '.005',\n",
       " 965: '.01',\n",
       " 966: '.0156',\n",
       " 967: '.0163',\n",
       " 968: '.0170',\n",
       " 969: '.0198',\n",
       " 970: '.0199',\n",
       " 971: '.02',\n",
       " 972: '.0200',\n",
       " 973: '.0201',\n",
       " 974: '.0202',\n",
       " 975: '.0203',\n",
       " 976: '.0204',\n",
       " 977: '.0205',\n",
       " 978: '.0206',\n",
       " 979: '.0207',\n",
       " 980: '.0208',\n",
       " 981: '.0210',\n",
       " 982: '.0211',\n",
       " 983: '.0212',\n",
       " 984: '.0213',\n",
       " 985: '.0214',\n",
       " 986: '.0215',\n",
       " 987: '.0216',\n",
       " 988: '.0217',\n",
       " 989: '.03',\n",
       " 990: '.0304',\n",
       " 991: '.0309',\n",
       " 992: '.0342',\n",
       " 993: '.0349',\n",
       " 994: '.0358',\n",
       " 995: '.0359',\n",
       " 996: '.04',\n",
       " 997: '.05',\n",
       " 998: '.059',\n",
       " 999: '.06',\n",
       " 1000: '.0613',\n",
       " 1001: '.0617',\n",
       " ...}"
      ]
     },
     "execution_count": 48,
     "metadata": {},
     "output_type": "execute_result"
    }
   ],
   "source": [
    "idx2word = {v: k for k, v in word2idx.items()}\n",
    "idx2word"
   ]
  },
  {
   "cell_type": "code",
   "execution_count": 49,
   "metadata": {},
   "outputs": [],
   "source": [
    "idx2tag = {v: k for k, v in tag2idx.items()}\n"
   ]
  },
  {
   "cell_type": "code",
   "execution_count": 50,
   "metadata": {},
   "outputs": [
    {
     "data": {
      "text/plain": [
       "353523"
      ]
     },
     "execution_count": 50,
     "metadata": {},
     "output_type": "execute_result"
    }
   ],
   "source": [
    "word2idx['table']"
   ]
  },
  {
   "cell_type": "markdown",
   "metadata": {},
   "source": [
    "The word indices"
   ]
  },
  {
   "cell_type": "code",
   "execution_count": 51,
   "metadata": {},
   "outputs": [
    {
     "name": "stdout",
     "output_type": "stream",
     "text": [
      "[('!', 2), ('!!', 3), ('!!!', 4), ('!!!!', 5), ('!!!!!', 6), ('!?', 7), ('!?!', 8), ('\"', 9), ('#', 10), ('##', 11), ('###', 12), ('#a', 13), ('#aabccc', 14), ('#b', 15), ('#c', 16), ('#cc', 17), ('#ccc', 18), ('#cccccc', 19), ('#ccccff', 20), ('#d', 21), ('#daa', 22), ('#dcdcdc', 23), ('#e', 24), ('#f', 25), ('#faf', 26)]\n"
     ]
    }
   ],
   "source": [
    "print(list(word2idx.items())[:25])"
   ]
  },
  {
   "cell_type": "markdown",
   "metadata": {},
   "source": [
    "The tag indices"
   ]
  },
  {
   "cell_type": "code",
   "execution_count": 52,
   "metadata": {},
   "outputs": [
    {
     "name": "stdout",
     "output_type": "stream",
     "text": [
      "{'B-LOC': 1, 'B-MISC': 2, 'B-ORG': 3, 'B-PER': 4, 'I-LOC': 5, 'I-MISC': 6, 'I-ORG': 7, 'I-PER': 8, 'O': 9}\n"
     ]
    }
   ],
   "source": [
    "print(tag2idx)"
   ]
  },
  {
   "cell_type": "markdown",
   "metadata": {},
   "source": [
    "## Embedding Matrix"
   ]
  },
  {
   "attachments": {},
   "cell_type": "markdown",
   "metadata": {},
   "source": [
    "Matrix of dimensions $(M, N)$, where $M$ will be the size of the vocabulary: The unique words in the training set and the words in GloVe, and $N$, the dimension of the embeddings.\n",
    "The padding symbol and the unknown word symbol will be part of the vocabulary at respectively index 0 and 1. \n",
    "\n",
    "Initialize the matrix with random values with the `torch.rand()`"
   ]
  },
  {
   "cell_type": "code",
   "execution_count": 53,
   "metadata": {},
   "outputs": [],
   "source": [
    "# We add two dimensions for the padding symbol at index 0 and unknown words at index 1\n",
    "embedding_matrix = torch.rand((len(vocabulary_words) + 2, EMBEDDING_DIM))/10 - 0.05 # range: -0.05, 0.05, \n",
    "# embedding_matrix = torch.rand((len(vocabulary_words) + 2, EMBEDDING_DIM))\n",
    "# embedding_matrix = torch.zeros((len(vocabulary_words) + 2, EMBEDDING_DIM))"
   ]
  },
  {
   "cell_type": "code",
   "execution_count": 54,
   "metadata": {},
   "outputs": [
    {
     "data": {
      "text/plain": [
       "torch.Size([402597, 50])"
      ]
     },
     "execution_count": 54,
     "metadata": {},
     "output_type": "execute_result"
    }
   ],
   "source": [
    "embedding_matrix.shape"
   ]
  },
  {
   "cell_type": "markdown",
   "metadata": {},
   "source": [
    "Fill the matrix with the GloVe embeddings when available. This means: Replace the random vector with an embedding when available. You will use the indices from the previous section. You will call `out_of_embeddings` the list of words in CoNLL, but not in the embedding list."
   ]
  },
  {
   "cell_type": "code",
   "execution_count": 58,
   "metadata": {},
   "outputs": [
    {
     "name": "stderr",
     "output_type": "stream",
     "text": [
      "100%|██████████| 402595/402595 [00:03<00:00, 108747.86it/s]\n"
     ]
    }
   ],
   "source": [
    "voc_set = set(vocabulary_words)\n",
    "embedded_set = set(embedded_words)\n",
    "out_of_embeddings = [None] * len(voc_set)\n",
    "count = 0\n",
    "for word in tqdm(voc_set) :\n",
    "    if word in embedded_set:\n",
    "        embedding_matrix[word2idx[word]] = embeddings_dict[word]\n",
    "    else:\n",
    "        out_of_embeddings[count] = word\n",
    "        count +=1\n",
    "out_of_embeddings = out_of_embeddings[:count]\n"
   ]
  },
  {
   "cell_type": "code",
   "execution_count": 59,
   "metadata": {},
   "outputs": [
    {
     "data": {
      "text/plain": [
       "402595"
      ]
     },
     "execution_count": 59,
     "metadata": {},
     "output_type": "execute_result"
    }
   ],
   "source": [
    "voc_set = set(vocabulary_words)\n",
    "len(vocabulary_words)"
   ]
  },
  {
   "cell_type": "code",
   "execution_count": 60,
   "metadata": {},
   "outputs": [
    {
     "data": {
      "text/plain": [
       "['4-200',\n",
       " 'steady-higher',\n",
       " '10,896',\n",
       " 'niggled',\n",
       " 'etchebarren',\n",
       " '10no',\n",
       " '26.7.1996',\n",
       " '17-0-91-0',\n",
       " 'bayervb',\n",
       " 'bulatka',\n",
       " 'zafririm',\n",
       " '133.82',\n",
       " 'destocked',\n",
       " '11.776',\n",
       " 'takeishi',\n",
       " 'rhineside',\n",
       " '28-inning',\n",
       " '2320.00',\n",
       " '3-146',\n",
       " '6700.000',\n",
       " 'schwabl',\n",
       " 'half-percentage',\n",
       " 'shi-ting',\n",
       " 'earth-shattering',\n",
       " '53rd-ranked',\n",
       " '170.4-175.0',\n",
       " 'fehervar',\n",
       " '+0.9;+23.6',\n",
       " '234,324',\n",
       " 'camat',\n",
       " '20.036',\n",
       " '44,525',\n",
       " '1464/96',\n",
       " '38:18.759',\n",
       " 'common-cold',\n",
       " 'rica-nicaragua',\n",
       " 'buzuku',\n",
       " '44th-ranked',\n",
       " 'mafia-style',\n",
       " 'well-flighted',\n",
       " '10-1-39-1',\n",
       " '482-1003',\n",
       " '214.40',\n",
       " 'green-and-yellow',\n",
       " '35-7/8',\n",
       " 'abderdeen',\n",
       " '20,725',\n",
       " '7-1/3',\n",
       " '28,716.8',\n",
       " 'micromation',\n",
       " 'stephnopoulos',\n",
       " '109.36',\n",
       " 'hintum',\n",
       " '02.sep.96-21.nov.97',\n",
       " '266.37',\n",
       " 'house-hunting',\n",
       " '17.',\n",
       " '251/08',\n",
       " '23-5-71-1',\n",
       " '2,017.99',\n",
       " 'syrian-lebanese',\n",
       " '10-0-59-1',\n",
       " 'leciva',\n",
       " 'still-enslaved',\n",
       " 'much-larger',\n",
       " 'agrotonz',\n",
       " '03/09',\n",
       " 'chabora',\n",
       " '1ama',\n",
       " '161,600',\n",
       " '1996-08-29',\n",
       " 'cellar-dwellers',\n",
       " '1996-08-28',\n",
       " 'n.a',\n",
       " \"gov't\",\n",
       " 'modarabas',\n",
       " '7,032',\n",
       " 'al-kabariti',\n",
       " '14.',\n",
       " 'dahshour',\n",
       " '26.',\n",
       " 'rawandouz',\n",
       " '960.00',\n",
       " 'widness',\n",
       " 'chupabolos',\n",
       " 'iscovered',\n",
       " '1:53.199',\n",
       " '212-859-1710',\n",
       " '4,153,800',\n",
       " '388.50',\n",
       " 'day--company----period--consensus----range-------pvs',\n",
       " '+3.06',\n",
       " 'palladini',\n",
       " '66.6-68.4',\n",
       " 'istafanus',\n",
       " '2,020.82',\n",
       " '226-5',\n",
       " 'karabach',\n",
       " 'better-than-expected',\n",
       " '6,512,000',\n",
       " 'ntawulikura',\n",
       " '212-859-1610',\n",
       " 'matuzici',\n",
       " '230-1',\n",
       " 'puk-run',\n",
       " '212-859-1736',\n",
       " '677.98',\n",
       " 'heinz-peter',\n",
       " 'dunajska',\n",
       " 'april-june',\n",
       " '373-1800',\n",
       " '251/02',\n",
       " '115.32',\n",
       " '28th-ranked',\n",
       " 'eurobourses',\n",
       " 'near-ideal',\n",
       " '305-5',\n",
       " '45,020,000',\n",
       " '3,632.3',\n",
       " '15/9',\n",
       " '+1,161',\n",
       " '08/26/96',\n",
       " 'one-dayers',\n",
       " '15:07.57',\n",
       " 'topolcany',\n",
       " '2:02.40',\n",
       " 'mudaba',\n",
       " '210.00',\n",
       " '2467.872',\n",
       " 'aylum',\n",
       " '218.50',\n",
       " 'andrejez',\n",
       " 'rishon-lezion',\n",
       " '7-',\n",
       " '+525',\n",
       " 'gun-wielding',\n",
       " 'zalevskaya',\n",
       " 'sun-baked',\n",
       " 'mational',\n",
       " 'independence-joke',\n",
       " 'single-digits',\n",
       " '23.0yr',\n",
       " '9-1-49-0',\n",
       " '42-2-2423-0003',\n",
       " 'seeed',\n",
       " 'karame',\n",
       " 'onic',\n",
       " 'qotbuddin',\n",
       " '119.49',\n",
       " '164-4',\n",
       " '12,750-12,900',\n",
       " '9373',\n",
       " '691p',\n",
       " 'becanovic',\n",
       " '6603377',\n",
       " 'eight-plus',\n",
       " 'burundi-central',\n",
       " '1-106',\n",
       " 'suedwest',\n",
       " '3,905.7',\n",
       " '138.0-149.0',\n",
       " '=1,000',\n",
       " '4:21.009',\n",
       " 'belometti',\n",
       " '1,294.5',\n",
       " '1:04.834',\n",
       " '8-238',\n",
       " 'eksportfinans',\n",
       " 'berlanda',\n",
       " 'servicenter',\n",
       " 'szonn',\n",
       " 'jyvasklya',\n",
       " 'w155',\n",
       " 'lausberg',\n",
       " 'sepoct',\n",
       " 'iranian-backed',\n",
       " '81.64',\n",
       " 'coverable',\n",
       " 'agota',\n",
       " '304,850',\n",
       " 'year-earlier',\n",
       " '840m',\n",
       " '249.53',\n",
       " 'pro-opposition',\n",
       " '12,700-12,900',\n",
       " 'rastegar',\n",
       " '819.10',\n",
       " 'eiden',\n",
       " 'lm600',\n",
       " 'france-soir',\n",
       " 'rokmeier',\n",
       " 'jumbish-i-milli',\n",
       " 'eurolira',\n",
       " 'camoflage',\n",
       " 'w145',\n",
       " '335.00',\n",
       " '301,972',\n",
       " '10,925',\n",
       " 'wijffels',\n",
       " 'anglert',\n",
       " '756525',\n",
       " 'tktx',\n",
       " 'kibitok',\n",
       " 'get-well',\n",
       " '1:53.067',\n",
       " 'kaptyukh',\n",
       " '6mo',\n",
       " 'lietti',\n",
       " 'moslem-led',\n",
       " '11.833',\n",
       " '4:15.006',\n",
       " 'foindu',\n",
       " 'wymeersch',\n",
       " '323-mile',\n",
       " '312-983-7347--',\n",
       " '72,464',\n",
       " \"nida'a\",\n",
       " '2,326.00',\n",
       " '1:56.830',\n",
       " '7-2-24-1',\n",
       " '38:52.271',\n",
       " 't-bill',\n",
       " '38:32.149',\n",
       " '28,000-student',\n",
       " 'yvegeny',\n",
       " '96/04',\n",
       " 'abdellaoui',\n",
       " '1:45.62',\n",
       " '14,775,000',\n",
       " '861723',\n",
       " '07.00',\n",
       " '6-1-17-0',\n",
       " '182,887',\n",
       " '7,149',\n",
       " 'imphold',\n",
       " 'goulnara',\n",
       " '3-166',\n",
       " '14,668,000',\n",
       " 'ceausu',\n",
       " 'al-tadamun',\n",
       " 'pro-child',\n",
       " 'bargain-hunting',\n",
       " 'euroswiss',\n",
       " 'straight-set',\n",
       " '251/01',\n",
       " '5.2893',\n",
       " '25.49,(3-yr',\n",
       " 'giaconi',\n",
       " 'al-qidra',\n",
       " 'vmig-1',\n",
       " '18-7/8',\n",
       " '44.804',\n",
       " '38:36.306',\n",
       " '3/94',\n",
       " '+15,272',\n",
       " 'build-to-order',\n",
       " 'times-stock',\n",
       " '388.55',\n",
       " '5-3/4',\n",
       " 'lahssini',\n",
       " '1:04.896',\n",
       " 'nc=acomparison',\n",
       " '3,941.50',\n",
       " '38:35.297',\n",
       " '1997--ruehe',\n",
       " 'dollendorf',\n",
       " '1996-08-24',\n",
       " '837/763',\n",
       " 'uniceramic',\n",
       " '795m',\n",
       " '2.2-0-13-0',\n",
       " 'heavily-mined',\n",
       " '1996-08-21',\n",
       " '66-14',\n",
       " '14.956',\n",
       " 'low-copper',\n",
       " '+65',\n",
       " '413.20',\n",
       " '2183',\n",
       " 'lb-4',\n",
       " 'trip-canada',\n",
       " '0:09',\n",
       " '6.5-8.5',\n",
       " '+2.3r',\n",
       " '212-859-1646',\n",
       " '3-0-24-1',\n",
       " '4:02.67',\n",
       " 'yaqiong',\n",
       " '10th-ranked',\n",
       " '5-1-24-3',\n",
       " '226-1',\n",
       " '617-367-4106',\n",
       " 'stat:exempt-ult',\n",
       " 'chistian',\n",
       " '5-0-24-0',\n",
       " 'kamiel',\n",
       " '226.859',\n",
       " '7-0-35-0',\n",
       " 'detroux',\n",
       " 'sivasiththamparam',\n",
       " 'ms-nbc',\n",
       " 'luehrs',\n",
       " 'fifth-inning',\n",
       " 'rebels-interfax',\n",
       " 'hurte',\n",
       " 'zundra',\n",
       " 'over-charging',\n",
       " '2:43.44',\n",
       " \"d'emploi\",\n",
       " 'spiring',\n",
       " 'lasa-zabala',\n",
       " '476/698',\n",
       " '312-408-8721',\n",
       " 'race-long',\n",
       " '+49',\n",
       " 'sandstod',\n",
       " '12.341',\n",
       " '5565',\n",
       " '43,430',\n",
       " 'pamire',\n",
       " '45.455',\n",
       " 'havnar',\n",
       " 'alhadji',\n",
       " 's.b.k-',\n",
       " '8:17.66',\n",
       " '2/94',\n",
       " 'purepac',\n",
       " 'malchugina',\n",
       " 'aaxis',\n",
       " '26:43.53',\n",
       " '22,666.80',\n",
       " 'jumbish',\n",
       " '27,535.5',\n",
       " 'newroom',\n",
       " 'oportunity',\n",
       " 'fax+44',\n",
       " '29th-ranked',\n",
       " '3311812-4',\n",
       " '33.',\n",
       " 'as-safir',\n",
       " '312-408-8647',\n",
       " '1.210-1.236',\n",
       " 'balance-water',\n",
       " 'donkow',\n",
       " '246,077',\n",
       " 'shrs',\n",
       " '5.2420',\n",
       " 'comisetti',\n",
       " '480,618',\n",
       " 'rysich',\n",
       " '2:29.34',\n",
       " '+47',\n",
       " 'april-march',\n",
       " 'nordegg',\n",
       " '65-8703092',\n",
       " '23/96',\n",
       " '4:14.784',\n",
       " '64-stroke',\n",
       " 'seven-newspaper',\n",
       " 'quarracino',\n",
       " 'al-risala',\n",
       " 'boudova',\n",
       " '13,256.5',\n",
       " 'lb-1',\n",
       " '28.29.42',\n",
       " '0.8584',\n",
       " 'friedick',\n",
       " '4.6200',\n",
       " 'minimium',\n",
       " 'kreissig',\n",
       " 'internationally-sponsored',\n",
       " '13/09',\n",
       " 'iberfreight',\n",
       " 'no.2',\n",
       " '8-',\n",
       " '123rd-ranked',\n",
       " 'out-of-sorts',\n",
       " '7-2-11-0',\n",
       " 'distrct',\n",
       " '147.786',\n",
       " 'veggerby',\n",
       " 'kostantin',\n",
       " '2843-6470',\n",
       " '06/01',\n",
       " 'al-watani',\n",
       " '7.85-8.15',\n",
       " 'barrel-per-day',\n",
       " 'indonesias',\n",
       " '3548',\n",
       " '12.033',\n",
       " '32,900-33,000',\n",
       " '6156',\n",
       " '658/96',\n",
       " 'bedibunder',\n",
       " '19,775',\n",
       " '1996-08-27',\n",
       " '4:24.427',\n",
       " '4yrs',\n",
       " '49,269',\n",
       " 'non-',\n",
       " '8-284',\n",
       " '9.4-1-45-3',\n",
       " '31,412',\n",
       " '22/8/96',\n",
       " '2:01.98',\n",
       " '9.0-10.5',\n",
       " 'greste',\n",
       " '27,246.5',\n",
       " 'sokolovska',\n",
       " '14432',\n",
       " '291,088',\n",
       " '21,718',\n",
       " 'want-ad',\n",
       " '7,391',\n",
       " 'republican-written',\n",
       " '14.5-16.5',\n",
       " 'sep.96',\n",
       " '211,175',\n",
       " 'end-year',\n",
       " 'emtn',\n",
       " '9-3-28-0',\n",
       " '13,102',\n",
       " 'ozers',\n",
       " 'vidal-quadras',\n",
       " 'hiv-pensioner',\n",
       " '2-0-18-0',\n",
       " 'cricuma',\n",
       " '16,909,000',\n",
       " 'nunung',\n",
       " 'kafawin',\n",
       " 'petrosan',\n",
       " 'fifth-seed',\n",
       " 'multiply.q',\n",
       " '92.0-94.5',\n",
       " '6368',\n",
       " '1:44.93',\n",
       " '2:00.39',\n",
       " 'five-run',\n",
       " '0.200',\n",
       " 'collstrop',\n",
       " 'oppreses',\n",
       " '375.00',\n",
       " '210,683',\n",
       " '1:06.289',\n",
       " 'klimis',\n",
       " 'month-end',\n",
       " '5-240',\n",
       " '4-179',\n",
       " '181,005',\n",
       " '276-277',\n",
       " '200-an-hour',\n",
       " '2778',\n",
       " '38:42.333',\n",
       " '2:43.06',\n",
       " '2,002.9',\n",
       " 'reperforated',\n",
       " '08/28/96',\n",
       " 'pfd-1',\n",
       " 'water-carrier',\n",
       " '16-party',\n",
       " '7340',\n",
       " 'undersecretary-general',\n",
       " 'swebus',\n",
       " 'laasonen',\n",
       " '8-0-33-0',\n",
       " '1060.00',\n",
       " '1-96',\n",
       " '733.75',\n",
       " '14.3-4-45-1',\n",
       " 'deletraz',\n",
       " '8:17.29',\n",
       " '320.00',\n",
       " 'sietco',\n",
       " '12pct',\n",
       " '3:33.77',\n",
       " '1,850-1,900',\n",
       " '+1.9',\n",
       " '166-1',\n",
       " '9.050',\n",
       " '533153',\n",
       " '11,346,000',\n",
       " 'exculpated',\n",
       " '2:44.22',\n",
       " '32.',\n",
       " '3:34.13',\n",
       " 'boutoille',\n",
       " '135-9',\n",
       " '9/17/96',\n",
       " '.8787',\n",
       " '6441',\n",
       " '859-1610',\n",
       " '290.3',\n",
       " 'emeraud',\n",
       " 'lankadeepa',\n",
       " 'holzgerlingen',\n",
       " '1036.575',\n",
       " '33969650',\n",
       " '400-425',\n",
       " '2,901.48',\n",
       " 'vikstedt-nyman',\n",
       " '605m',\n",
       " 'nizigama',\n",
       " 'georgiopoulos',\n",
       " '2140.800',\n",
       " '++359-2',\n",
       " 'burcin',\n",
       " 'dollar-buying',\n",
       " 'fenandez',\n",
       " '941-8100',\n",
       " '12th-ranked',\n",
       " 'al-',\n",
       " 'three-',\n",
       " '188,143',\n",
       " 'marc-vivien',\n",
       " '7:38.88',\n",
       " 'yr-ago',\n",
       " '1:55.371',\n",
       " 'ipma',\n",
       " '44.',\n",
       " '48,123',\n",
       " '194-0',\n",
       " '32,700-32,800',\n",
       " 'klongprem',\n",
       " 'mariacarla',\n",
       " 'pl-480',\n",
       " 'thuet',\n",
       " 'overs-a-side',\n",
       " '388.75',\n",
       " '392-6',\n",
       " '1.210',\n",
       " 'derivatives@reuters.com',\n",
       " 'richmond-based',\n",
       " '15.125',\n",
       " '10-3-31-1',\n",
       " 'valkov',\n",
       " 'nuour',\n",
       " '207,990',\n",
       " '5,696',\n",
       " '15,286',\n",
       " 'sheepmeat',\n",
       " '630.000',\n",
       " '1915.00',\n",
       " 'fifth-',\n",
       " '25-',\n",
       " '6-242',\n",
       " 'tungky',\n",
       " '4:21.454',\n",
       " 'doldrum',\n",
       " 'marushko',\n",
       " '02/09',\n",
       " '38:33.595',\n",
       " '0.4-0-9-0',\n",
       " '3024.95',\n",
       " 'coers',\n",
       " '9251-274757',\n",
       " 'subandoro',\n",
       " 'passorts',\n",
       " 'konpolis',\n",
       " '5-203',\n",
       " '422.1',\n",
       " '8:16.80',\n",
       " 'noteworty',\n",
       " 'besirovic',\n",
       " '202,593',\n",
       " 'petrolem',\n",
       " 'x-olympiakos',\n",
       " '7546',\n",
       " '1,315.7',\n",
       " 'moada',\n",
       " '254,247',\n",
       " 'kanstinger',\n",
       " '0:04',\n",
       " '2.777',\n",
       " '15.4-1-67-3',\n",
       " '318-2',\n",
       " 'freight-tonne',\n",
       " '1:00.754',\n",
       " 'kolumbina',\n",
       " 'fruit-throwing',\n",
       " 'anti-bhutto',\n",
       " '7:47.78',\n",
       " '4:17.696',\n",
       " 'nb-8',\n",
       " '179.5p',\n",
       " '0.300',\n",
       " 'firsy',\n",
       " '+3.4',\n",
       " '18,623',\n",
       " 'shanghai-ek',\n",
       " '23.',\n",
       " '10.5-42.3',\n",
       " 'ctry',\n",
       " '186th-ranked',\n",
       " 'disarmament-china',\n",
       " 'wesbanco',\n",
       " 'marie-jose',\n",
       " 'vurens',\n",
       " 'bbb-minus',\n",
       " 'nb-3',\n",
       " 'sep.03',\n",
       " '+310.4',\n",
       " 'four-set',\n",
       " 'help-wanted',\n",
       " '1:50.980',\n",
       " '19999.777',\n",
       " 'first-inning',\n",
       " 'plo-israel',\n",
       " '15,062',\n",
       " 'koerts',\n",
       " '236-4',\n",
       " '+10.8',\n",
       " 'hickey-like',\n",
       " 'three-session',\n",
       " '0.966',\n",
       " '312-408-8720--',\n",
       " 'vierklau',\n",
       " 'mieciel',\n",
       " 'in-nazzjon',\n",
       " 'non-medicare',\n",
       " '5,658',\n",
       " '4:19.762',\n",
       " '561-8671',\n",
       " '1996-08-25',\n",
       " '2:00.91',\n",
       " '655m',\n",
       " '60,131',\n",
       " 'favourtism',\n",
       " 'masanaga',\n",
       " 'aswaq',\n",
       " '300,800',\n",
       " '108,288',\n",
       " '24.sep.02',\n",
       " 'knoroz',\n",
       " '2:29.66',\n",
       " 'a.de',\n",
       " 'square-leg',\n",
       " 'vaclavas',\n",
       " '17,844',\n",
       " 'jamroz',\n",
       " 'multi-layers',\n",
       " '3,250,000',\n",
       " '38:49.595',\n",
       " '8,757',\n",
       " '----------------------------------',\n",
       " 'wbur-fm',\n",
       " '787.50',\n",
       " '+4.7',\n",
       " 'alien-led',\n",
       " '09/01/96',\n",
       " '312-408-8787',\n",
       " \"d'outre\",\n",
       " 'forecast-',\n",
       " 'cash-related',\n",
       " 'e.c.india',\n",
       " 'talent-laden',\n",
       " 'stromsgodset',\n",
       " '41.0-42.5',\n",
       " '160-4',\n",
       " '25-8-61-1',\n",
       " '4221',\n",
       " 'nkgowe',\n",
       " 'bse-infected',\n",
       " 'sud-ptt',\n",
       " 'zarcas',\n",
       " '170.680',\n",
       " 'valkucak',\n",
       " '50th-minute',\n",
       " 'sbpus',\n",
       " '1998d',\n",
       " 'mid-sea',\n",
       " '30.',\n",
       " 'third-set',\n",
       " '7,718,000',\n",
       " '1:51.884',\n",
       " 'poudels',\n",
       " '20,530',\n",
       " 'four-nation',\n",
       " 'ennea',\n",
       " 'frcd',\n",
       " '22-6-56-2',\n",
       " '1:40.227',\n",
       " 'shiya',\n",
       " 'chimonetos',\n",
       " '19.125',\n",
       " '2:43.82',\n",
       " '8.20-8.50',\n",
       " '+31,230',\n",
       " '+7.3;-3.6',\n",
       " '15.710',\n",
       " 'lelouche',\n",
       " 'steel-producing',\n",
       " '...and',\n",
       " '56rd',\n",
       " '68-76f',\n",
       " 'customs-cleared',\n",
       " 'asselman',\n",
       " '1:54.095',\n",
       " '3mo',\n",
       " 'mokhoff',\n",
       " '9221-5685192',\n",
       " 'fourth-stage',\n",
       " 'gyaicain',\n",
       " '216-579-0077',\n",
       " 'so-far',\n",
       " 'alomella',\n",
       " '5452',\n",
       " '3921.8',\n",
       " '100no',\n",
       " '1.5497',\n",
       " 'oljeselskap',\n",
       " 'dnevi',\n",
       " 'indusind',\n",
       " 'cancell',\n",
       " 'ad-interim',\n",
       " '0.25-1.00',\n",
       " 'duessseldorf',\n",
       " '869.3',\n",
       " '14:58.29',\n",
       " 'gagiano',\n",
       " '10700',\n",
       " 'seven-inning',\n",
       " 'sex-and-murder',\n",
       " '11,244',\n",
       " '225-5',\n",
       " 'swastika-covered',\n",
       " 'nb-10',\n",
       " 'anne-gaelle',\n",
       " 'doetinchem-doetinchem',\n",
       " 'exchnage',\n",
       " 'w200',\n",
       " 'mixed-bloods',\n",
       " 'hit-squad',\n",
       " '75,632',\n",
       " 'nacar',\n",
       " 'pro-baghdad',\n",
       " '50.250',\n",
       " 'ben-elissar',\n",
       " '339.00',\n",
       " 'l-orizzont',\n",
       " 'matescu',\n",
       " '1.4779',\n",
       " 'kapeta',\n",
       " 'berovo',\n",
       " '7-283',\n",
       " '55,000-b',\n",
       " '142-4',\n",
       " 'zyrecha',\n",
       " '2-5080815',\n",
       " '10-1-54-0',\n",
       " '119.6**',\n",
       " '51/96',\n",
       " 'jetsi',\n",
       " 'bargain-hunters',\n",
       " '3:33.94',\n",
       " 'three-hitter',\n",
       " 'rydz',\n",
       " '1998c',\n",
       " '36337.137',\n",
       " '2843',\n",
       " 'closely-watched',\n",
       " 'bruwier',\n",
       " '1/9/95',\n",
       " '37.',\n",
       " '0.',\n",
       " 'production-sharing',\n",
       " '4:21.715',\n",
       " 'shaxson',\n",
       " '303.19',\n",
       " 'father-of-three',\n",
       " '7149',\n",
       " '19,734.70',\n",
       " '1:56.417',\n",
       " '264.00',\n",
       " 'madhumalla',\n",
       " '5,124.053',\n",
       " 'scoreboard-australia',\n",
       " 'x-club',\n",
       " 'northsea',\n",
       " '5.1700',\n",
       " '7717',\n",
       " '242.94',\n",
       " 'korean-related',\n",
       " '18.',\n",
       " '6.',\n",
       " 'goldiman',\n",
       " 'beta-1b',\n",
       " 'kidikas',\n",
       " 'rohren',\n",
       " 'nagyatad',\n",
       " 'crime-infested',\n",
       " 'hitleresque',\n",
       " '38:19.313',\n",
       " '46.538',\n",
       " '1:55.645',\n",
       " '662-252-9950',\n",
       " '7:48.38',\n",
       " 'maakinen',\n",
       " 'a-',\n",
       " '325-350',\n",
       " '29-3-116-1',\n",
       " '7706',\n",
       " '+90-212-275',\n",
       " 'bajgora',\n",
       " 'trouble-makers',\n",
       " 'kablo',\n",
       " 'x-anderlecht',\n",
       " 'lispi',\n",
       " 'ninova',\n",
       " '1:56.318',\n",
       " '6-1-23-2',\n",
       " 'capiot',\n",
       " 'millfeeds',\n",
       " '24-kms',\n",
       " '2609760',\n",
       " 'mcgilley',\n",
       " 'non-callable',\n",
       " 'predrosa',\n",
       " 'focus-news',\n",
       " '+167,330',\n",
       " '05/09',\n",
       " '1:45.24',\n",
       " '285-6',\n",
       " '1:54.443',\n",
       " 'feugill',\n",
       " 'atteveld',\n",
       " '9373-1800',\n",
       " '+48',\n",
       " '28.42.23',\n",
       " 'husaberg',\n",
       " 'stavby',\n",
       " 'aerostan',\n",
       " '31,834,000',\n",
       " 'metrostav',\n",
       " '279.9',\n",
       " 'alliance-menatep',\n",
       " '5-217',\n",
       " '+361',\n",
       " 'falkir',\n",
       " '2,342.0',\n",
       " '918,288',\n",
       " '215.0',\n",
       " 'bosia-hercegovina',\n",
       " '106.375',\n",
       " 'stronger-than-expected',\n",
       " 'mg-technogym',\n",
       " 'floating-rate',\n",
       " 'schiphorst',\n",
       " 'year-ago',\n",
       " '+0.4m',\n",
       " 'kadian',\n",
       " '+0.0',\n",
       " '148.29',\n",
       " 'hezb-i-islami',\n",
       " '138.643',\n",
       " 'full-yr',\n",
       " '5,539',\n",
       " 'jan-april',\n",
       " 'stevanin',\n",
       " '95/96',\n",
       " '7-3/8',\n",
       " 'betschart',\n",
       " '12,201.09',\n",
       " '4,658,000',\n",
       " '725,900',\n",
       " '1mo',\n",
       " '02.777',\n",
       " '37-10-78-6',\n",
       " '09/04/96',\n",
       " 'hyper-inflation',\n",
       " 'vivit',\n",
       " '33,230',\n",
       " '15-share',\n",
       " '+282.1',\n",
       " 'acatepec',\n",
       " 'insurgency-related',\n",
       " '3.385',\n",
       " 'pomfret-rich',\n",
       " '160-200',\n",
       " 'ransart',\n",
       " '11361.330',\n",
       " 'distributers',\n",
       " 'mypa-47',\n",
       " 'godras',\n",
       " 'square-jawed',\n",
       " '37.1-7-97-3',\n",
       " 'tilcon',\n",
       " 'aronkasei',\n",
       " 'younnes',\n",
       " 'mirhunisa',\n",
       " '4,464',\n",
       " '4,325-acre',\n",
       " '115,941',\n",
       " 'tremila',\n",
       " 'sun-drenched',\n",
       " '19,560',\n",
       " '355,900',\n",
       " 'yastrezhembsky',\n",
       " '2361',\n",
       " 'serb-held',\n",
       " '151-to-1',\n",
       " 'lb-5',\n",
       " '310.00',\n",
       " '59440',\n",
       " 'dungeon-like',\n",
       " 'mocude',\n",
       " 'long-barreled',\n",
       " '12.124',\n",
       " 'clerq',\n",
       " 'punr',\n",
       " 'lufung',\n",
       " '38:32.040',\n",
       " 'colleter',\n",
       " 'rebel-dominated',\n",
       " 'company-------------price---broker----------------',\n",
       " 'huracan-corrientes',\n",
       " 'heir-to-the-throne',\n",
       " '6320',\n",
       " '1,421.90',\n",
       " '4:23.029',\n",
       " 'roelofsen',\n",
       " 'newly-promoted',\n",
       " '1,452-km',\n",
       " 'alaniya',\n",
       " 'ahave',\n",
       " 'knobl',\n",
       " '318-0655',\n",
       " '11th-ranked',\n",
       " '6-440',\n",
       " '05:53',\n",
       " 'liwaya',\n",
       " '+91-11-3012024',\n",
       " 'big-serving',\n",
       " 'non-trade',\n",
       " '10-1-40-0',\n",
       " 'week-ago',\n",
       " '290.00',\n",
       " '16408.700',\n",
       " '38-1/2',\n",
       " '*note',\n",
       " 'haladas',\n",
       " '210,622',\n",
       " 'pierog',\n",
       " '4,534,000',\n",
       " 'five-10',\n",
       " '1:51.006',\n",
       " 'abnout',\n",
       " '-docstart-',\n",
       " 'boo-nee-ol',\n",
       " '1-129',\n",
       " 'municipal-level',\n",
       " '+331',\n",
       " '235-6745',\n",
       " 'ki-choo',\n",
       " 'volcano-hit',\n",
       " 'ex-captain',\n",
       " 'multple',\n",
       " 'carl-uwe',\n",
       " 'b-',\n",
       " 'al-akhbar',\n",
       " '752.50',\n",
       " '6-205',\n",
       " '20.112',\n",
       " 'rbls',\n",
       " 'stock-trade',\n",
       " 'sobotzik',\n",
       " 'zilinskiene',\n",
       " '5,951',\n",
       " 'mandolina',\n",
       " 'chatuparisut',\n",
       " 'spif',\n",
       " '29/89',\n",
       " 'zanoli',\n",
       " 'gimnasia-la',\n",
       " '8-519',\n",
       " '3,920.7',\n",
       " '903.09',\n",
       " '280,556',\n",
       " '8:15.69',\n",
       " 'eighth-inning',\n",
       " '5,731',\n",
       " '0:08',\n",
       " '12,900-13,150',\n",
       " 'kankunnen',\n",
       " '1.4788',\n",
       " '26-time',\n",
       " '10,650,407',\n",
       " 'emanuil',\n",
       " 'six-run',\n",
       " 'govt.budget',\n",
       " 'w-9',\n",
       " 'mont-sur-marchienne',\n",
       " '7-220',\n",
       " '+230.4',\n",
       " '18,174,000',\n",
       " '31.',\n",
       " '5432',\n",
       " 'burea',\n",
       " 'croatia-yugoslavia',\n",
       " '4:19.665',\n",
       " '225-share',\n",
       " ...]"
      ]
     },
     "execution_count": 60,
     "metadata": {},
     "output_type": "execute_result"
    }
   ],
   "source": [
    "out_of_embeddings"
   ]
  },
  {
   "cell_type": "code",
   "execution_count": 61,
   "metadata": {},
   "outputs": [
    {
     "data": {
      "text/plain": [
       "tensor([ 0.1357, -0.0910, -0.1032, -0.3671,  0.2028,  1.4460,  1.1740,  0.4656,\n",
       "        -0.8072,  0.8025, -0.1076, -0.3101, -0.3294,  0.8699, -1.5335, -0.7010,\n",
       "        -0.6835, -1.0930,  0.1873, -0.3392, -1.2767, -1.0122, -0.2891,  0.9744,\n",
       "         0.9689,  0.1969, -0.6227,  0.0934,  0.4631, -0.2058,  2.2427, -0.1040,\n",
       "         1.4332,  0.5460,  0.0782, -0.6911,  0.6938, -0.6075, -0.4844,  0.9767,\n",
       "         0.1653, -0.0863, -1.2616,  0.3105,  0.0223,  0.9487,  1.1302, -0.0348,\n",
       "        -0.5622,  0.5346])"
      ]
     },
     "execution_count": 61,
     "metadata": {},
     "output_type": "execute_result"
    }
   ],
   "source": [
    "embeddings_dict['chord']"
   ]
  },
  {
   "cell_type": "code",
   "execution_count": 63,
   "metadata": {},
   "outputs": [
    {
     "data": {
      "text/plain": [
       "2595"
      ]
     },
     "execution_count": 63,
     "metadata": {},
     "output_type": "execute_result"
    }
   ],
   "source": [
    "len(out_of_embeddings)"
   ]
  },
  {
   "cell_type": "code",
   "execution_count": 65,
   "metadata": {},
   "outputs": [],
   "source": [
    "out_of_embeddings = sorted(out_of_embeddings)"
   ]
  },
  {
   "cell_type": "markdown",
   "metadata": {},
   "source": [
    "Embeddings of the padding symbol, idx 0, random numbers"
   ]
  },
  {
   "cell_type": "code",
   "execution_count": 66,
   "metadata": {},
   "outputs": [
    {
     "data": {
      "text/plain": [
       "tensor([-0.3666,  1.0584, -0.6538,  0.1767,  1.0605, -0.7254, -0.0097,  0.0797,\n",
       "        -0.4649, -0.7435])"
      ]
     },
     "execution_count": 66,
     "metadata": {},
     "output_type": "execute_result"
    }
   ],
   "source": [
    "embedding_matrix[word2idx['table']][:10]"
   ]
  },
  {
   "cell_type": "markdown",
   "metadata": {},
   "source": [
    "Embeddings of the word _table_, the GloVe values"
   ]
  },
  {
   "cell_type": "code",
   "execution_count": 68,
   "metadata": {},
   "outputs": [
    {
     "data": {
      "text/plain": [
       "tensor([-0.0014,  0.0307,  0.0219, -0.0102,  0.0266,  0.0387, -0.0300, -0.0342,\n",
       "         0.0384,  0.0363])"
      ]
     },
     "execution_count": 68,
     "metadata": {},
     "output_type": "execute_result"
    }
   ],
   "source": [
    "embedding_matrix[word2idx['zwingmann']][:10]"
   ]
  },
  {
   "cell_type": "markdown",
   "metadata": {},
   "source": [
    "Embeddings of _zarett_, a word in CoNLL 2003, but not in GloVe, random numbers"
   ]
  },
  {
   "cell_type": "markdown",
   "metadata": {},
   "source": [
    "## Creating the ${X}$ and ${Y}$ Sequences"
   ]
  },
  {
   "cell_type": "code",
   "execution_count": 69,
   "metadata": {},
   "outputs": [],
   "source": [
    "# We create the parallel sequences of indexes\n",
    "X_train_idx = []\n",
    "Y_train_idx = []\n",
    "for sentence in X_train_symbs:\n",
    "    sentence_list = []\n",
    "    for word in sentence:\n",
    "        sentence_list.append(word2idx[word])\n",
    "    X_train_idx.append(sentence_list)\n",
    "    \n",
    "for sentence in Y_train_symbs:\n",
    "    sentence_list = []\n",
    "    for word in sentence:\n",
    "        sentence_list.append(tag2idx[word])\n",
    "    Y_train_idx.append(sentence_list)\n"
   ]
  },
  {
   "attachments": {},
   "cell_type": "markdown",
   "metadata": {},
   "source": [
    "Do the same for the validation set. Some words are unknown."
   ]
  },
  {
   "cell_type": "code",
   "execution_count": 70,
   "metadata": {},
   "outputs": [],
   "source": [
    "X_val_idx = []\n",
    "Y_val_idx = []\n",
    "for sentence in X_val_symbs:\n",
    "    sentence_list = []\n",
    "    for word in sentence:\n",
    "        if word in word2idx :\n",
    "            sentence_list.append(word2idx[word])\n",
    "        else:\n",
    "            sentence_list.append(1)\n",
    "\n",
    "    X_val_idx.append(sentence_list)\n",
    "    \n",
    "for sentence in Y_val_symbs:\n",
    "    sentence_list = []\n",
    "    for word in sentence:\n",
    "        if word in tag2idx :\n",
    "            sentence_list.append(tag2idx[word])\n",
    "        else:\n",
    "            sentence_list.append([1])\n",
    "    Y_val_idx.append(sentence_list)\n"
   ]
  },
  {
   "cell_type": "markdown",
   "metadata": {},
   "source": [
    "Word indices of the three first sentences"
   ]
  },
  {
   "cell_type": "code",
   "execution_count": 71,
   "metadata": {},
   "outputs": [
    {
     "name": "stdout",
     "output_type": "stream",
     "text": [
      "[[935], [142143, 307143, 161836, 91321, 363368, 83766, 85852, 218260, 936], [284434, 79019]]\n",
      "[[935], [113351, 679, 221875, 354360, 275584, 63471, 364505, 49150, 192163, 381011, 936], [227217, 15431]]\n"
     ]
    }
   ],
   "source": [
    "print(X_train_idx[:3])\n",
    "print(X_val_idx[:3])"
   ]
  },
  {
   "cell_type": "markdown",
   "metadata": {},
   "source": [
    "NER tag indices of the three first sentences"
   ]
  },
  {
   "cell_type": "code",
   "execution_count": 72,
   "metadata": {},
   "outputs": [
    {
     "name": "stdout",
     "output_type": "stream",
     "text": [
      "[[9], [3, 9, 2, 9, 9, 9, 2, 9, 9], [4, 8]]\n",
      "[[9], [9, 9, 3, 9, 9, 9, 9, 9, 9, 9, 9], [1, 9]]\n"
     ]
    }
   ],
   "source": [
    "print(Y_train_idx[:3])\n",
    "print(Y_val_idx[:3])"
   ]
  },
  {
   "cell_type": "code",
   "execution_count": 73,
   "metadata": {},
   "outputs": [],
   "source": [
    "X_train_idx = list(map(torch.LongTensor, X_train_idx))\n",
    "Y_train_idx = list(map(torch.LongTensor, Y_train_idx))\n",
    "\n",
    "X_val_idx = list(map(torch.LongTensor, X_val_idx))\n",
    "Y_val_idx = list(map(torch.LongTensor, Y_val_idx))"
   ]
  },
  {
   "cell_type": "code",
   "execution_count": 74,
   "metadata": {},
   "outputs": [],
   "source": [
    "X_train_padded = pad_sequence(X_train_idx, batch_first=True)\n",
    "Y_train_padded = pad_sequence(Y_train_idx, batch_first=True)\n",
    "\n",
    "X_val_padded = pad_sequence(X_val_idx, batch_first=True)\n",
    "Y_val_padded = pad_sequence(Y_val_idx, batch_first=True)"
   ]
  },
  {
   "cell_type": "code",
   "execution_count": 76,
   "metadata": {},
   "outputs": [
    {
     "data": {
      "text/plain": [
       "tensor([142143, 307143, 161836,  91321, 363368,  83766,  85852, 218260,    936,\n",
       "             0,      0,      0,      0,      0,      0,      0,      0,      0,\n",
       "             0,      0,      0,      0,      0,      0,      0,      0,      0,\n",
       "             0,      0,      0,      0,      0,      0,      0,      0,      0,\n",
       "             0,      0,      0,      0,      0,      0,      0,      0,      0,\n",
       "             0,      0,      0,      0,      0,      0,      0,      0,      0,\n",
       "             0,      0,      0,      0,      0,      0,      0,      0,      0,\n",
       "             0,      0,      0,      0,      0,      0,      0,      0,      0,\n",
       "             0,      0,      0,      0,      0,      0,      0,      0,      0,\n",
       "             0,      0,      0,      0,      0,      0,      0,      0,      0,\n",
       "             0,      0,      0,      0,      0,      0,      0,      0,      0,\n",
       "             0,      0,      0,      0,      0,      0,      0,      0,      0,\n",
       "             0,      0,      0,      0,      0])"
      ]
     },
     "execution_count": 76,
     "metadata": {},
     "output_type": "execute_result"
    }
   ],
   "source": [
    "X_train_padded[1]"
   ]
  },
  {
   "cell_type": "code",
   "execution_count": 77,
   "metadata": {},
   "outputs": [
    {
     "data": {
      "text/plain": [
       "tensor([3, 9, 2, 9, 9, 9, 2, 9, 9, 0, 0, 0, 0, 0, 0, 0, 0, 0, 0, 0, 0, 0, 0, 0,\n",
       "        0, 0, 0, 0, 0, 0, 0, 0, 0, 0, 0, 0, 0, 0, 0, 0, 0, 0, 0, 0, 0, 0, 0, 0,\n",
       "        0, 0, 0, 0, 0, 0, 0, 0, 0, 0, 0, 0, 0, 0, 0, 0, 0, 0, 0, 0, 0, 0, 0, 0,\n",
       "        0, 0, 0, 0, 0, 0, 0, 0, 0, 0, 0, 0, 0, 0, 0, 0, 0, 0, 0, 0, 0, 0, 0, 0,\n",
       "        0, 0, 0, 0, 0, 0, 0, 0, 0, 0, 0, 0, 0, 0, 0, 0, 0])"
      ]
     },
     "execution_count": 77,
     "metadata": {},
     "output_type": "execute_result"
    }
   ],
   "source": [
    "Y_train_padded[1]"
   ]
  },
  {
   "cell_type": "markdown",
   "metadata": {},
   "source": [
    "## Network Architecture"
   ]
  },
  {
   "cell_type": "code",
   "execution_count": 544,
   "metadata": {},
   "outputs": [],
   "source": [
    "#LSTM\n",
    "import torch.nn.functional as F\n",
    "\n",
    "class Model(nn.Module):\n",
    "\n",
    "    def __init__(self, embedding_matrix, lstm_units, nbr_classes, freeze_embs=True, num_layers=1, bidi_lstm=False):\n",
    "        super().__init__()\n",
    "        self.embedding = nn.Embedding.from_pretrained(embedding_matrix, freeze=freeze_embs, padding_idx=0)\n",
    "        self.dropout = nn.Dropout(DROPOUT)\n",
    "        self.lstm = nn.LSTM(embedding_matrix.shape[1], lstm_units, num_layers=num_layers, bidirectional=bidi_lstm, batch_first=True)\n",
    "\n",
    "        if not bidi_lstm:\n",
    "            self.fc = nn.Linear(lstm_units, nbr_classes)\n",
    "        else:\n",
    "            # twice the units if bidirectional \n",
    "            self.fc = nn.Linear(2*lstm_units, nbr_classes)\n",
    "            \n",
    "    def forward(self, sentence):\n",
    "        embeds = self.embedding(sentence)\n",
    "        lstm_out, (h_n, c_n) = self.lstm(embeds)\n",
    "        lstm_last = F.relu(lstm_out)\n",
    "        lstm_last = self.dropout(lstm_last)\n",
    "        logits = self.fc(lstm_last)\n",
    "        return logits"
   ]
  },
  {
   "cell_type": "code",
   "execution_count": 136,
   "metadata": {},
   "outputs": [],
   "source": [
    "#multi-layer Elman RNN with tanh⁡tanh or ReLUReLU non-linearity to an input sequence\n",
    "import torch.nn.functional as F\n",
    "\n",
    "class Model(nn.Module):\n",
    "\n",
    "    def __init__(self, embedding_matrix, rnn_units, nbr_classes, freeze_embs=True, num_layers=1, bidi_rnn=False):\n",
    "        super().__init__()\n",
    "        self.embedding = nn.Embedding.from_pretrained(embedding_matrix, freeze=freeze_embs, padding_idx=0)\n",
    "        self.dropout = nn.Dropout(DROPOUT)\n",
    "        self.rnn = nn.RNN(embedding_matrix.shape[1], rnn_units, num_layers=num_layers, bidirectional=bidi_rnn, batch_first=True)\n",
    "\n",
    "        if not bidi_rnn:\n",
    "            self.fc = nn.Linear(rnn_units, nbr_classes)\n",
    "        else:\n",
    "            self.fc = nn.Linear(2*rnn_units, nbr_classes)\n",
    "            \n",
    "    def forward(self, sentence):\n",
    "        embeds = self.embedding(sentence)\n",
    "        rnn_out, h_n = self.rnn(embeds)\n",
    "        rnn_last = F.relu(rnn_out)\n",
    "        rnn_last = self.dropout(rnn_last)\n",
    "        logits = self.fc(rnn_last)\n",
    "        return logits\n"
   ]
  },
  {
   "cell_type": "code",
   "execution_count": 192,
   "metadata": {},
   "outputs": [],
   "source": [
    "model = Model(embedding_matrix, \n",
    "              LSTM_HIDDEN_DIM, \n",
    "              len(tags) + 1, \n",
    "              freeze_embs=True, \n",
    "              num_layers=2, \n",
    "              )#bidi_lstm=True)"
   ]
  },
  {
   "cell_type": "code",
   "execution_count": 194,
   "metadata": {},
   "outputs": [
    {
     "data": {
      "text/plain": [
       "Model(\n",
       "  (embedding): Embedding(402597, 50, padding_idx=0)\n",
       "  (dropout): Dropout(p=0.2, inplace=False)\n",
       "  (rnn): RNN(50, 128, num_layers=2, batch_first=True)\n",
       "  (fc): Linear(in_features=128, out_features=10, bias=True)\n",
       ")"
      ]
     },
     "execution_count": 194,
     "metadata": {},
     "output_type": "execute_result"
    }
   ],
   "source": [
    "model"
   ]
  },
  {
   "attachments": {},
   "cell_type": "markdown",
   "metadata": {},
   "source": [
    "The loss `loss_fn` and optimizer `optimizer`.\n",
    "\n",
    "Note that to compute the loss, you need to discard the padding symbols from the results and specify their index \n",
    "https://pytorch.org/docs/stable/generated/torch.nn.CrossEntropyLoss.html (ignore_index)"
   ]
  },
  {
   "cell_type": "code",
   "execution_count": 195,
   "metadata": {},
   "outputs": [],
   "source": [
    "loss_fn = nn.CrossEntropyLoss(ignore_index=0)    # cross entropy loss\n",
    "optimizer = torch.optim.RMSprop(model.parameters(), lr=0.001)"
   ]
  },
  {
   "cell_type": "markdown",
   "metadata": {},
   "source": [
    "## Data Loaders"
   ]
  },
  {
   "cell_type": "code",
   "execution_count": 196,
   "metadata": {},
   "outputs": [],
   "source": [
    "X_train = torch.LongTensor(X_train_padded)\n",
    "Y_train = torch.LongTensor(Y_train_padded)\n",
    "\n",
    "X_val = torch.LongTensor(X_val_padded)\n",
    "Y_val = torch.LongTensor(Y_val_padded)"
   ]
  },
  {
   "cell_type": "code",
   "execution_count": 197,
   "metadata": {},
   "outputs": [],
   "source": [
    "dataset = TensorDataset(X_train, Y_train)\n",
    "dataloader = DataLoader(dataset, batch_size=32, shuffle=True)"
   ]
  },
  {
   "cell_type": "markdown",
   "metadata": {},
   "source": [
    "### Applying the Model"
   ]
  },
  {
   "attachments": {},
   "cell_type": "markdown",
   "metadata": {},
   "source": [
    "We apply the model to the whole training set."
   ]
  },
  {
   "cell_type": "code",
   "execution_count": 198,
   "metadata": {},
   "outputs": [],
   "source": [
    "def batch_inference(model, X, batchsize=32):\n",
    "    with torch.no_grad():\n",
    "        partial = []\n",
    "        for i in range(0, X.shape[0], batchsize):\n",
    "            partial.append(model(X[i:i+batchsize]))\n",
    "    \n",
    "    return torch.vstack(partial)"
   ]
  },
  {
   "cell_type": "code",
   "execution_count": 199,
   "metadata": {},
   "outputs": [],
   "source": [
    "with torch.no_grad():\n",
    "    Y_train_pred = batch_inference(model, X_train)"
   ]
  },
  {
   "cell_type": "code",
   "execution_count": 200,
   "metadata": {},
   "outputs": [
    {
     "data": {
      "text/plain": [
       "torch.Size([14987, 113, 10])"
      ]
     },
     "execution_count": 200,
     "metadata": {},
     "output_type": "execute_result"
    }
   ],
   "source": [
    "Y_train_pred.size()"
   ]
  },
  {
   "cell_type": "code",
   "execution_count": 201,
   "metadata": {},
   "outputs": [
    {
     "data": {
      "text/plain": [
       "torch.Size([1693531, 10])"
      ]
     },
     "execution_count": 201,
     "metadata": {},
     "output_type": "execute_result"
    }
   ],
   "source": [
    "Y_train_pred.view(-1, Y_train_pred.size()[-1]).size()"
   ]
  },
  {
   "cell_type": "markdown",
   "metadata": {},
   "source": [
    "## Training the Model"
   ]
  },
  {
   "attachments": {},
   "cell_type": "markdown",
   "metadata": {},
   "source": [
    "We create a dictionary to store the accuracy and the loss. Computes them in the training loop. Excludes the the padding symbols from counts. "
   ]
  },
  {
   "cell_type": "code",
   "execution_count": 202,
   "metadata": {},
   "outputs": [],
   "source": [
    "history = {}\n",
    "history['accuracy'] = []\n",
    "history['loss'] = []\n",
    "history['val_accuracy'] = []\n",
    "history['val_loss'] = []"
   ]
  },
  {
   "attachments": {},
   "cell_type": "markdown",
   "metadata": {},
   "source": [
    "Need to buy new machine that supports Cuda, broke life as a student aint easy"
   ]
  },
  {
   "cell_type": "code",
   "execution_count": 203,
   "metadata": {},
   "outputs": [
    {
     "data": {
      "text/plain": [
       "<function torch.cuda.is_available() -> bool>"
      ]
     },
     "execution_count": 203,
     "metadata": {},
     "output_type": "execute_result"
    }
   ],
   "source": [
    "torch.cuda.is_available"
   ]
  },
  {
   "cell_type": "markdown",
   "metadata": {},
   "source": [
    "We fit the model"
   ]
  },
  {
   "cell_type": "code",
   "execution_count": 204,
   "metadata": {},
   "outputs": [
    {
     "name": "stderr",
     "output_type": "stream",
     "text": [
      "100%|██████████| 469/469 [00:41<00:00, 11.24it/s]\n",
      "100%|██████████| 469/469 [00:48<00:00,  9.58it/s]\n",
      "100%|██████████| 469/469 [00:50<00:00,  9.27it/s]\n",
      "100%|██████████| 469/469 [00:33<00:00, 14.13it/s]\n",
      "100%|██████████| 469/469 [00:31<00:00, 14.81it/s]\n",
      "100%|██████████| 469/469 [00:35<00:00, 13.15it/s]\n",
      "100%|██████████| 469/469 [00:38<00:00, 12.26it/s]\n",
      "100%|██████████| 469/469 [00:32<00:00, 14.36it/s]\n",
      "100%|██████████| 469/469 [00:32<00:00, 14.53it/s]\n",
      "100%|██████████| 469/469 [00:32<00:00, 14.57it/s]\n"
     ]
    }
   ],
   "source": [
    "for epoch in range(EPOCHS):\n",
    "    train_loss = 0\n",
    "    train_accuracy = 0\n",
    "    val_loss = 0\n",
    "    val_accuracy = 0\n",
    "    word_cnt = 0\n",
    "    batch_cnt = 0\n",
    "    model.train()\n",
    "    for X_batch, y_batch in tqdm(dataloader):\n",
    "        batch_cnt += 1\n",
    "        Y_batch_pred = model(X_batch)\n",
    "        loss = loss_fn(Y_batch_pred.view(-1, Y_batch_pred.shape[-1]), y_batch.view(-1)) # reshape Y_batch_pred\n",
    "        optimizer.zero_grad()\n",
    "        loss.backward()\n",
    "        optimizer.step()\n",
    "        train_loss += loss.item()\n",
    "       \n",
    "    \n",
    "    model.eval()\n",
    "    with torch.no_grad():\n",
    "        train_accuracy = torch.sum(torch.mul(torch.argmax(batch_inference(model, X_train), dim = -1) == Y_train, Y_train > 0))\n",
    "     \n",
    "        history['accuracy'] += [train_accuracy.item()/torch.sum(Y_train > 0)]\n",
    "        history['loss'] += [train_loss/batch_cnt]\n",
    "        \n",
    "        y_val_pred = model(X_val)\n",
    "        val_loss = loss_fn(y_val_pred.view(-1, y_val_pred.shape[-1]), Y_val.view(-1))\n",
    "        history['val_loss'] += [val_loss.item()]\n",
    "        val_accuracy = torch.sum(torch.mul(torch.argmax(model(X_val), dim=-1) == Y_val, Y_val > 0))\n",
    "        history['val_accuracy'] += [val_accuracy.item()/torch.sum(Y_val > 0)]\n"
   ]
  },
  {
   "cell_type": "code",
   "execution_count": 206,
   "metadata": {},
   "outputs": [
    {
     "data": {
      "image/png": "[encoded data removed]",
      "text/plain": [
       "<Figure size 640x480 with 1 Axes>"
      ]
     },
     "metadata": {},
     "output_type": "display_data"
    },
    {
     "data": {
      "image/png": "[encoded data removed]",
      "text/plain": [
       "<Figure size 640x480 with 1 Axes>"
      ]
     },
     "metadata": {},
     "output_type": "display_data"
    }
   ],
   "source": [
    "acc = history['accuracy']\n",
    "loss = history['loss']\n",
    "val_acc = history['val_accuracy']\n",
    "val_loss = history['val_loss']\n",
    "\n",
    "epochs = range(1, len(acc) + 1)\n",
    "plt.plot(epochs, acc, 'bo', label='Training accuracy')\n",
    "plt.plot(epochs, val_acc, 'b', label='Validation accuracy')\n",
    "plt.title('Training and validation accuracies')\n",
    "plt.legend()\n",
    "\n",
    "plt.figure()\n",
    "plt.plot(epochs, loss, 'bo', label='Training loss')\n",
    "plt.plot(epochs, val_loss, 'b', label='Validation loss')\n",
    "plt.title('Training and validation losses')\n",
    "plt.legend()\n",
    "\n",
    "plt.show()"
   ]
  },
  {
   "cell_type": "markdown",
   "metadata": {},
   "source": [
    "And we visualize the training curves. We compare them with a validation set."
   ]
  },
  {
   "cell_type": "code",
   "execution_count": 209,
   "metadata": {},
   "outputs": [],
   "source": [
    "sentence = 'The United States might collapsez .'.lower().split()"
   ]
  },
  {
   "cell_type": "markdown",
   "metadata": {},
   "source": [
    "Convert the sentence words to indices"
   ]
  },
  {
   "cell_type": "code",
   "execution_count": 210,
   "metadata": {},
   "outputs": [],
   "source": [
    "sentence_word_idxs = []\n",
    "for word in sentence :\n",
    "    if word in word2idx :\n",
    "        sentence_word_idxs.append(word2idx[word])\n",
    "    else :\n",
    "        sentence_word_idxs.append(1)\n",
    "sentence_word_idxs = torch.LongTensor(sentence_word_idxs)"
   ]
  },
  {
   "cell_type": "markdown",
   "metadata": {},
   "source": [
    "The indices. Note the 1 at the end."
   ]
  },
  {
   "cell_type": "code",
   "execution_count": 211,
   "metadata": {},
   "outputs": [
    {
     "name": "stdout",
     "output_type": "stream",
     "text": [
      "Sentence ['the', 'united', 'states', 'might', 'collapsez', '.']\n",
      "Sentence word indexes tensor([359698, 374678, 344404, 246008,      1,    936])\n"
     ]
    }
   ],
   "source": [
    "print('Sentence', sentence)\n",
    "print('Sentence word indexes', sentence_word_idxs)"
   ]
  },
  {
   "cell_type": "markdown",
   "metadata": {},
   "source": [
    "Predict the tags. Call the variable `sent_tag_predictions`"
   ]
  },
  {
   "cell_type": "code",
   "execution_count": 212,
   "metadata": {},
   "outputs": [],
   "source": [
    "sent_tag_predictions = model(sentence_word_idxs)"
   ]
  },
  {
   "cell_type": "code",
   "execution_count": 214,
   "metadata": {},
   "outputs": [
    {
     "data": {
      "text/plain": [
       "torch.Size([6, 10])"
      ]
     },
     "execution_count": 214,
     "metadata": {},
     "output_type": "execute_result"
    }
   ],
   "source": [
    "sent_tag_predictions.shape"
   ]
  },
  {
   "cell_type": "markdown",
   "metadata": {},
   "source": [
    "The estimated probabilities of the first tag"
   ]
  },
  {
   "cell_type": "code",
   "execution_count": 215,
   "metadata": {},
   "outputs": [
    {
     "data": {
      "text/plain": [
       "tensor([2.2006e-12, 1.1678e-04, 6.9366e-04, 7.1028e-03, 3.1984e-06, 9.2650e-06,\n",
       "        1.4142e-04, 1.0985e-04, 6.5737e-07, 9.9182e-01],\n",
       "       grad_fn=<SoftmaxBackward0>)"
      ]
     },
     "execution_count": 215,
     "metadata": {},
     "output_type": "execute_result"
    }
   ],
   "source": [
    "F.softmax(sent_tag_predictions[0], dim=-1)"
   ]
  },
  {
   "cell_type": "code",
   "execution_count": 217,
   "metadata": {},
   "outputs": [
    {
     "data": {
      "text/plain": [
       "tensor([9, 1, 5, 9, 9, 9])"
      ]
     },
     "execution_count": 217,
     "metadata": {},
     "output_type": "execute_result"
    }
   ],
   "source": [
    "torch.argmax(F.softmax(sent_tag_predictions, dim=-1), dim=-1)"
   ]
  },
  {
   "cell_type": "markdown",
   "metadata": {},
   "source": [
    "We apply argmax to select the tag"
   ]
  },
  {
   "cell_type": "code",
   "execution_count": 220,
   "metadata": {},
   "outputs": [
    {
     "name": "stdout",
     "output_type": "stream",
     "text": [
      "the: O\n",
      "united: B-LOC\n",
      "states: I-LOC\n",
      "might: O\n",
      "collapsez /ukn: O\n",
      ".: O\n"
     ]
    }
   ],
   "source": [
    "for word_nbr, tag_predictions in enumerate(sent_tag_predictions):\n",
    "    if int(sentence_word_idxs[word_nbr]) in idx2word:\n",
    "        print(idx2word[int(sentence_word_idxs[word_nbr])], end=': ')\n",
    "    else:\n",
    "        print(sentence[word_nbr], '/ukn', end=': ')\n",
    "    print(idx2tag.get(int(torch.argmax(F.softmax(tag_predictions, dim=-1), dim=-1))))"
   ]
  },
  {
   "cell_type": "markdown",
   "metadata": {},
   "source": [
    "## Evaluating the Model"
   ]
  },
  {
   "cell_type": "code",
   "execution_count": 222,
   "metadata": {},
   "outputs": [
    {
     "data": {
      "text/plain": [
       "[[{'form': 'SOCCER', 'ppos': 'NN', 'pchunk': 'B-NP', 'ner': 'O'},\n",
       "  {'form': '-', 'ppos': ':', 'pchunk': 'O', 'ner': 'O'},\n",
       "  {'form': 'JAPAN', 'ppos': 'NNP', 'pchunk': 'B-NP', 'ner': 'B-LOC'},\n",
       "  {'form': 'GET', 'ppos': 'VB', 'pchunk': 'B-VP', 'ner': 'O'},\n",
       "  {'form': 'LUCKY', 'ppos': 'NNP', 'pchunk': 'B-NP', 'ner': 'O'},\n",
       "  {'form': 'WIN', 'ppos': 'NNP', 'pchunk': 'I-NP', 'ner': 'O'},\n",
       "  {'form': ',', 'ppos': ',', 'pchunk': 'O', 'ner': 'O'},\n",
       "  {'form': 'CHINA', 'ppos': 'NNP', 'pchunk': 'B-NP', 'ner': 'B-PER'},\n",
       "  {'form': 'IN', 'ppos': 'IN', 'pchunk': 'B-PP', 'ner': 'O'},\n",
       "  {'form': 'SURPRISE', 'ppos': 'DT', 'pchunk': 'B-NP', 'ner': 'O'},\n",
       "  {'form': 'DEFEAT', 'ppos': 'NN', 'pchunk': 'I-NP', 'ner': 'O'},\n",
       "  {'form': '.', 'ppos': '.', 'pchunk': 'O', 'ner': 'O'}]]"
      ]
     },
     "execution_count": 222,
     "metadata": {},
     "output_type": "execute_result"
    }
   ],
   "source": [
    "test_sentences = read_sentences(test_file)\n",
    "test_dict = split_rows(test_sentences, column_names)\n",
    "test_dict[1:2]"
   ]
  },
  {
   "cell_type": "markdown",
   "metadata": {},
   "source": [
    "We create the ${X}$ and ${Y}$ sequences of symbols"
   ]
  },
  {
   "cell_type": "code",
   "execution_count": 223,
   "metadata": {},
   "outputs": [
    {
     "name": "stdout",
     "output_type": "stream",
     "text": [
      "X_test: ['soccer', '-', 'japan', 'get', 'lucky', 'win', ',', 'china', 'in', 'surprise', 'defeat', '.']\n",
      "Y_test ['O', 'O', 'B-LOC', 'O', 'O', 'O', 'O', 'B-PER', 'O', 'O', 'O', 'O']\n"
     ]
    }
   ],
   "source": [
    "X_test_symbs, Y_test_symbs = build_sequences(test_dict, key_x='form', key_y='ner')\n",
    "print('X_test:', X_test_symbs[1])\n",
    "print('Y_test', Y_test_symbs[1])"
   ]
  },
  {
   "cell_type": "code",
   "execution_count": 224,
   "metadata": {},
   "outputs": [],
   "source": [
    "X_test_idx = []\n",
    "for x in X_test_symbs:\n",
    "    # We map the unknown words to index 1\n",
    "    x_idx = list(map(lambda a: word2idx.get(a, 1), x))\n",
    "    X_test_idx += [x_idx]"
   ]
  },
  {
   "cell_type": "code",
   "execution_count": 225,
   "metadata": {},
   "outputs": [],
   "source": [
    "X_test_idx = map(torch.LongTensor, X_test_idx)"
   ]
  },
  {
   "cell_type": "code",
   "execution_count": 226,
   "metadata": {},
   "outputs": [],
   "source": [
    "X_test_padded = pad_sequence(X_test_idx, batch_first=True)"
   ]
  },
  {
   "cell_type": "code",
   "execution_count": 227,
   "metadata": {},
   "outputs": [
    {
     "name": "stdout",
     "output_type": "stream",
     "text": [
      "X_test_padded: tensor([338644,    679, 197600, 162137, 229067, 390518,    517, 100680, 190291,\n",
      "        350949, 120818,    936,      0,      0,      0,      0,      0,      0,\n",
      "             0,      0,      0,      0,      0,      0,      0,      0,      0,\n",
      "             0,      0,      0,      0,      0,      0,      0,      0,      0,\n",
      "             0,      0,      0,      0,      0,      0,      0,      0,      0,\n",
      "             0,      0,      0,      0,      0,      0,      0,      0,      0,\n",
      "             0,      0,      0,      0,      0,      0,      0,      0,      0,\n",
      "             0,      0,      0,      0,      0,      0,      0,      0,      0,\n",
      "             0,      0,      0,      0,      0,      0,      0,      0,      0,\n",
      "             0,      0,      0,      0,      0,      0,      0,      0,      0,\n",
      "             0,      0,      0,      0,      0,      0,      0,      0,      0,\n",
      "             0,      0,      0,      0,      0,      0,      0,      0,      0,\n",
      "             0,      0,      0,      0,      0,      0,      0,      0,      0,\n",
      "             0,      0,      0,      0,      0,      0,      0])\n"
     ]
    }
   ],
   "source": [
    "print('X_test_padded:', X_test_padded[1])"
   ]
  },
  {
   "cell_type": "code",
   "execution_count": 228,
   "metadata": {},
   "outputs": [
    {
     "data": {
      "text/plain": [
       "torch.Size([3684, 124])"
      ]
     },
     "execution_count": 228,
     "metadata": {},
     "output_type": "execute_result"
    }
   ],
   "source": [
    "X_test_padded.shape"
   ]
  },
  {
   "cell_type": "markdown",
   "metadata": {},
   "source": [
    "Predict the NER tags. Call the result `Y_test_hat_probs`"
   ]
  },
  {
   "cell_type": "code",
   "execution_count": 229,
   "metadata": {},
   "outputs": [],
   "source": [
    "Y_test_hat_probs = batch_inference(model, X_test_padded)"
   ]
  },
  {
   "cell_type": "code",
   "execution_count": 232,
   "metadata": {},
   "outputs": [
    {
     "name": "stdout",
     "output_type": "stream",
     "text": [
      "Predictions tensor([[-24.6871,  -6.1796,  -0.8955,  ...,  -3.9058,  -9.3320,   4.0271],\n",
      "        [-24.1049,  -4.0013,  -2.8348,  ...,  -3.2763,  -9.0496,   4.5298],\n",
      "        [-21.0066,   4.8963,   2.3607,  ...,  -5.4691,  -8.9876,  -1.9908],\n",
      "        ...,\n",
      "        [-16.9128,  -3.3277,  -3.1517,  ...,  -4.3740,  -1.2815,   1.3175],\n",
      "        [-16.9128,  -3.3277,  -3.1517,  ...,  -4.3740,  -1.2815,   1.3175],\n",
      "        [-16.9127,  -3.3277,  -3.1517,  ...,  -4.3740,  -1.2815,   1.3175]])\n"
     ]
    }
   ],
   "source": [
    "print('Predictions', Y_test_hat_probs[1])"
   ]
  },
  {
   "cell_type": "code",
   "execution_count": 233,
   "metadata": {},
   "outputs": [],
   "source": [
    "Y_test_hat_probs = F.softmax(Y_test_hat_probs, dim=-1)"
   ]
  },
  {
   "cell_type": "code",
   "execution_count": 234,
   "metadata": {},
   "outputs": [
    {
     "data": {
      "text/plain": [
       "tensor([[3.3400e-13, 3.6430e-05, 7.1834e-03,  ..., 3.5397e-04, 1.5573e-06,\n",
       "         9.8668e-01],\n",
       "        [3.6513e-13, 1.9648e-04, 6.3081e-04,  ..., 4.0568e-04, 1.2615e-06,\n",
       "         9.9619e-01],\n",
       "        [5.1726e-12, 9.1872e-01, 7.2782e-02,  ..., 2.8945e-05, 8.5800e-07,\n",
       "         9.3793e-04],\n",
       "        ...,\n",
       "        [1.0451e-08, 8.3001e-03, 9.8981e-03,  ..., 2.9153e-03, 6.4235e-02,\n",
       "         8.6394e-01],\n",
       "        [1.0452e-08, 8.3001e-03, 9.8980e-03,  ..., 2.9154e-03, 6.4235e-02,\n",
       "         8.6394e-01],\n",
       "        [1.0452e-08, 8.3002e-03, 9.8980e-03,  ..., 2.9154e-03, 6.4235e-02,\n",
       "         8.6394e-01]])"
      ]
     },
     "execution_count": 234,
     "metadata": {},
     "output_type": "execute_result"
    }
   ],
   "source": [
    "Y_test_hat_probs[1]"
   ]
  },
  {
   "cell_type": "markdown",
   "metadata": {},
   "source": [
    "We now predict the whole test set and we store the results in each dictionary with the key `pner`"
   ]
  },
  {
   "cell_type": "code",
   "execution_count": 235,
   "metadata": {},
   "outputs": [],
   "source": [
    "for sent, y_hat_probs in zip(test_dict, Y_test_hat_probs):\n",
    "    sent_len = len(sent)\n",
    "    y_hat_probs = y_hat_probs[:sent_len]\n",
    "    # y_hat = torch.argmax(y_hat_probs, dim=-1) # This statement sometimes predicts 0 (the padding symbol)\n",
    "    y_hat = torch.argmax(y_hat_probs[:, 1:], dim=-1) + 1 # Never predicts 0\n",
    "    for word, ner_hat in zip(sent, y_hat):\n",
    "        word['pner'] = idx2tag.get(int(ner_hat)) \n",
    "        if word['pner'] == None:\n",
    "            print(sent)"
   ]
  },
  {
   "cell_type": "markdown",
   "metadata": {},
   "source": [
    "A sentence example: `ner` is the hand annotation and `pner` is the prediction."
   ]
  },
  {
   "cell_type": "markdown",
   "metadata": {},
   "source": [
    "We save the test set in a file to evaluate the performance of our model."
   ]
  },
  {
   "cell_type": "code",
   "execution_count": 237,
   "metadata": {},
   "outputs": [],
   "source": [
    "column_names = ['form', 'ppos', 'pchunk', 'ner', 'pner']"
   ]
  },
  {
   "cell_type": "code",
   "execution_count": 238,
   "metadata": {},
   "outputs": [],
   "source": [
    "def save(file, corpus_dict, column_names):\n",
    "    \"\"\"\n",
    "    Saves the corpus in a file\n",
    "    :param file:\n",
    "    :param corpus_dict:\n",
    "    :param column_names:\n",
    "    :return:\n",
    "    \"\"\"\n",
    "    i = 0\n",
    "    with open(file, 'w', encoding='utf8') as f_out:\n",
    "        i += 1\n",
    "        for sentence in corpus_dict:\n",
    "            sentence_lst = []\n",
    "            for row in sentence:\n",
    "                items = map(lambda x: row.get(x, '_'), column_names)\n",
    "                sentence_lst += ' '.join(items) + '\\n'\n",
    "            sentence_lst += '\\n'\n",
    "            f_out.write(''.join(sentence_lst))"
   ]
  },
  {
   "cell_type": "code",
   "execution_count": 239,
   "metadata": {},
   "outputs": [],
   "source": [
    "outfile = 'test_model.out'"
   ]
  },
  {
   "cell_type": "code",
   "execution_count": 240,
   "metadata": {},
   "outputs": [],
   "source": [
    "save(outfile, test_dict, column_names)"
   ]
  },
  {
   "cell_type": "code",
   "execution_count": 241,
   "metadata": {},
   "outputs": [
    {
     "data": {
      "text/plain": [
       "0.743120863810519"
      ]
     },
     "execution_count": 241,
     "metadata": {},
     "output_type": "execute_result"
    }
   ],
   "source": [
    "lines = open(outfile, encoding='utf8').read().splitlines()\n",
    "res = conlleval.evaluate(lines)\n",
    "chunker_score = res['overall']['chunks']['evals']['f1']\n",
    "chunker_score"
   ]
  },
  {
   "cell_type": "code",
   "execution_count": 242,
   "metadata": {},
   "outputs": [
    {
     "data": {
      "text/plain": [
       "0.743120863810519"
      ]
     },
     "execution_count": 242,
     "metadata": {},
     "output_type": "execute_result"
    }
   ],
   "source": [
    "lines = open(outfile, encoding='utf8').read().splitlines()\n",
    "res = conlleval.evaluate(lines)\n",
    "chunker_score = res['overall']['chunks']['evals']['f1']\n",
    "chunker_score"
   ]
  },
  {
   "cell_type": "code",
   "execution_count": 189,
   "metadata": {},
   "outputs": [
    {
     "data": {
      "text/plain": [
       "{'EPOCHS': 10,\n",
       " 'LSTM_HIDDEN_DIM': 128,\n",
       " 'LSTM_LAYERS': 2,\n",
       " 'DROPOUT': 0.2,\n",
       " 'EMB_LARGE': False,\n",
       " 'FREEZE_EMBS': True}"
      ]
     },
     "execution_count": 189,
     "metadata": {},
     "output_type": "execute_result"
    }
   ],
   "source": [
    "config"
   ]
  },
  {
   "cell_type": "code",
   "execution_count": 190,
   "metadata": {},
   "outputs": [],
   "source": [
    "torch.save(model.state_dict(), 'model3.pth')"
   ]
  },
  {
   "cell_type": "markdown",
   "metadata": {},
   "source": [
    "## Experiments"
   ]
  },
  {
   "attachments": {},
   "cell_type": "markdown",
   "metadata": {},
   "source": [
    "Two different recurrent networks: RNN and LSTM. Two sets of parameters per network. \n",
    "\n",
    "|Method|Parameters|Score|\n",
    "|------|-----|-----|\n",
    "|Baseline|  xx | 0.7191 |\n",
    "|LSTM|  {'EPOCHS': 10,'LSTM_HIDDEN_DIM': 128,'LSTM_LAYERS': 2,'DROPOUT': 0.2,'EMB_LARGE': False, 'FREEZE_EMBS': True} |0.825944606671976 |\n",
    "|LSTM |  {'EPOCHS': 10, 'LSTM_HIDDEN_DIM': 256,'LSTM_LAYERS': 3,'DROPOUT': 0.2,'EMB_LARGE': False,'FREEZE_EMBS': False} |0.05489926214779982 |\n",
    "|LSTM | {'EPOCHS': 10,'LSTM_HIDDEN_DIM': 256,'LSTM_LAYERS': 2,'DROPOUT': 0.2,'EMB_LARGE': False,'FREEZE_EMBS': True} | 0.8316867253457876|\n",
    "|LSTM |  {'EPOCHS': 10,'LSTM_HIDDEN_DIM': 128,'LSTM_LAYERS': 3,'DROPOUT': 0.2,'EMB_LARGE': False,'FREEZE_EMBS': True} |0.8404753330932662  Would've been 8th place | \n",
    "|RNN |  {'EPOCHS': 10,'RNN_UNITS': 128,'LAYERS': 2,'DROPOUT': 0.2,'EMB_LARGE': False,'FREEZE_EMBS': True}|0.7473235268517712 |\n",
    "|RNN |  {'EPOCHS': 10,'RNN_UNITS': 128,'LAYERS': 2,'DROPOUT': 0.2,'EMB_LARGE': False,'FREEZE_EMBS': False}|0.6948544741889751 |\n",
    "|RNN |  {'EPOCHS': 10,'RNN_UNITS': 128*2,'LAYERS': 3,'DROPOUT': 0.2,'EMB_LARGE': False,'FREEZE_EMBS': True}| 0.6737652551396511|\n",
    "|RNN |  {'EPOCHS': 10,'RNN_UNITS': 128*3,'LAYERS': 2,'DROPOUT': 0.2,'EMB_LARGE': False,'FREEZE_EMBS': True}| 0.7343036775471536|\n",
    "|RNN |  {'EPOCHS': 10,'RNN_UNITS': 128*3,'LAYERS': 3,'DROPOUT': 0.2,'EMB_LARGE': False,'FREEZE_EMBS': True}| 0.7398885493438792|\n",
    "\n",
    "The baseline is the one from the CoNLL 2003 shared task. See here: https://aclanthology.org/W03-0419.pdf\n",
    "\n",
    "My goal is 80%"
   ]
  }
 ],
 "metadata": {
  "kernelspec": {
   "display_name": "Python 3",
   "language": "python",
   "name": "python3"
  },
  "language_info": {
   "codemirror_mode": {
    "name": "ipython",
    "version": 3
   },
   "file_extension": ".py",
   "mimetype": "text/x-python",
   "name": "python",
   "nbconvert_exporter": "python",
   "pygments_lexer": "ipython3",
   "version": "3.11.0"
  },
  "vscode": {
   "interpreter": {
    "hash": "c261aea317cc0286b3b3261fbba9abdec21eaa57589985bb7a274bf54d6cc0a7"
   }
  }
 },
 "nbformat": 4,
 "nbformat_minor": 4
}
